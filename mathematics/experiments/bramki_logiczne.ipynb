{
 "cells": [
  {
   "cell_type": "markdown",
   "metadata": {},
   "source": [
    "# Logika i bramki logiczne\n",
    "\n",
    "Logika jest nam potrzebna wszędzie tam, gdzie staramy się sprawdzić słuszość pewnego sądu. Jej początki sięgają Arystotelesa. Można powiedzieć, że logika to nauka o sposobach jasnego i ścisłego formułowania zdań, uczy nas o regułach poprawnego rozumowania i uzasadniania twierdzeń.\n",
    "\n",
    "Zmienne logiczne mogą przyjmować jedną z dwóch wartości: prawda/fałsz, 0/1.\n",
    "\n",
    "Zmienne możemy łączyć za pomocą spójników (funktorów) logicznych w funkcje zdaniowe. Po podstawieniu wartości za zmienne, funkcja zdaniowa przechodzi w zdanie, które również przyjmuje wartość \"prawda\" lub \"fałsz\".\n",
    "\n",
    "Najważniejsze spójniki (funktory) logiczne:\n",
    "- negacja\n",
    "- alternatywa\n",
    "- koniunkcja\n",
    "- implikacja\n",
    "- równoważność\n",
    "- alternatywa wykluczająca\n",
    "\n",
    "Działanie poszczególnych funktorów często przedstawia się w postaci tzw. tablic prawdy. Poniżej tblice prawdy dla najważniejszych funktorów logicznych:\n",
    "\n",
    "1. Negacja (NOT)\n",
    "|p|~p|\n",
    "|--|--|\n",
    "|1|0|\n",
    "|0|1|\n",
    "\n",
    "2. Alternatywa (OR)\n",
    "|p|q|p $\\vee$ q|\n",
    "|--|--|--|\n",
    "|0|0|0|\n",
    "|0|1|1|\n",
    "|1|0|1|\n",
    "|1|1|1|\n",
    "\n",
    "3. Koniunkcja (AND)\n",
    "|p|q|p $\\wedge$ q|\n",
    "|--|--|--|\n",
    "|0|0|0|\n",
    "|0|1|0|\n",
    "|1|0|0|\n",
    "|1|1|1|\n",
    "\n",
    "4. Implikacja (ze słuszych założeń nie mogą wynikać fałszywe wnioski)\n",
    "|p|q|p &rarr; q|\n",
    "|--|--|--|\n",
    "|0|0|1|\n",
    "|0|1|1|\n",
    "|1|0|0|\n",
    "|1|1|1|\n",
    "\n",
    "5. Równoważność \n",
    "|p|q|p &harr; q|\n",
    "|--|--|--|\n",
    "|0|0|1|\n",
    "|0|1|0|\n",
    "|1|0|0|\n",
    "|1|1|1|\n",
    "\n",
    "6. Alternatywa wykluczająca (XOR)\n",
    "|p|q|p $\\veebar$ q|\n",
    "|--|--|--|\n",
    "|0|0|0|\n",
    "|0|1|1|\n",
    "|1|0|1|\n",
    "|1|1|0|\n",
    "\n",
    "7. Dysjunkcja (NAND)\n",
    "|p|q|p $\\barwedge$ q|\n",
    "|--|--|--|\n",
    "|0|0|1|\n",
    "|0|1|1|\n",
    "|1|0|1|\n",
    "|1|1|0|\n",
    "\n",
    "8. Binegacja (NOR)\n",
    "|p|q|p v̅ q|\n",
    "|--|--|--|\n",
    "|0|0|1|\n",
    "|0|1|0|\n",
    "|1|0|0|\n",
    "|1|1|0|"
   ]
  },
  {
   "cell_type": "markdown",
   "metadata": {},
   "source": [
    "### Zadanie 1\n",
    "\n",
    "Utwórz funkcje, relizujące zadania operacji logicznych:\n",
    "1. negacja\n",
    "2. alternatywa\n",
    "3. koniunkcja\n",
    "4. implikacja\n",
    "5. równoważność\n",
    "6. alternatywa wykluczająca\n",
    "7. dysjunkcja\n",
    "8. binegacja\n",
    "\n",
    "Sprawdzić tablice prawd dla utworzonych funkcji. Funkcje przyjmują wartości 0 i 1. Funkcje powinny być wyposażone w dokumentację oraz rozbudowane o obsługę wyjątków."
   ]
  },
  {
   "cell_type": "code",
   "execution_count": 1,
   "metadata": {},
   "outputs": [],
   "source": [
    "# 1. Negacja\n",
    "\n",
    "def NOT(x):\n",
    "    \"\"\"Funkcja jednoargumentowa, wykonuje negację.\"\"\"\n",
    "    \n",
    "    try:\n",
    "        xp = int(x)\n",
    "        if (xp == 0 or xp == 1):\n",
    "           \n",
    "            if (xp == 0):\n",
    "                return 1\n",
    "            elif (xp == 1):\n",
    "                return 0\n",
    "            \n",
    "        else:\n",
    "            return -100\n",
    "        \n",
    "    except:\n",
    "        return -200\n",
    "\n",
    "# 2. Alternatywa \n",
    "\n",
    "def OR(x1, x2):\n",
    "    \"\"\"Funkcja dwuargumentowa, wykonuje alternatywę.\"\"\"\n",
    "    \n",
    "    try:\n",
    "        xp1 = int(x1)\n",
    "        xp2 = int(x2)\n",
    "        \n",
    "        if ((xp1 == 0 or xp1 == 1) and (xp2 == 0 or xp2 == 1)):\n",
    "            \n",
    "            if (xp1 == 0 and xp2 == 0):\n",
    "                \n",
    "                return 0\n",
    "            \n",
    "            elif (xp1 == 0 and xp2 == 1):\n",
    "                \n",
    "                return 1\n",
    "            \n",
    "            elif (xp1 == 1 and xp2 == 0):\n",
    "                \n",
    "                return 1\n",
    "            \n",
    "            elif (xp1 == 1 and xp2 == 1):\n",
    "                \n",
    "                return 1\n",
    "            \n",
    "        else:\n",
    "            -100\n",
    "            \n",
    "    except:\n",
    "        return -200   \n",
    "\n",
    "# 3. Koniunkcja\n",
    "    \n",
    "def AND(x1, x2):\n",
    "    \"\"\"Funkcja dwuargumentowa, wykonuje koniunkcję.\"\"\"\n",
    "    \n",
    "    try:\n",
    "        xp1 = int(x1)\n",
    "        xp2 = int(x2)\n",
    "        \n",
    "        if ((xp1 == 0 or xp1 == 1) and (xp2 == 0 or xp2 == 1)):\n",
    "            \n",
    "            if (xp1 == 0 and xp2 == 0):\n",
    "                \n",
    "                return 0\n",
    "            \n",
    "            elif (xp1 == 0 and xp2 == 1):\n",
    "                \n",
    "                return 0\n",
    "            \n",
    "            elif (xp1 == 1 and xp2 == 0):\n",
    "                \n",
    "                return 0\n",
    "            \n",
    "            elif (xp1 == 1 and xp2 == 1):\n",
    "                \n",
    "                return 1\n",
    "            \n",
    "        else:\n",
    "            -100\n",
    "            \n",
    "    except:\n",
    "        return -200\n",
    "\n",
    "# 4. Implikacja \n",
    "\n",
    "def IFTHEN(x1, x2):\n",
    "    \"\"\"Funkcja dwuargumentowa, wykonuje implikację.\"\"\"\n",
    "    \n",
    "    try:\n",
    "        xp1 = int(x1)\n",
    "        xp2 = int(x2)\n",
    "        \n",
    "        if ((xp1 == 0 or xp1 == 1) and (xp2 == 0 or xp2 == 1)):\n",
    "            \n",
    "            if (xp1 == 0 and xp2 == 0):\n",
    "                \n",
    "                return 1\n",
    "            \n",
    "            elif (xp1 == 0 and xp2 == 1):\n",
    "                \n",
    "                return 1\n",
    "            \n",
    "            elif (xp1 == 1 and xp2 == 0):\n",
    "                \n",
    "                return 0\n",
    "            \n",
    "            elif (xp1 == 1 and xp2 == 1):\n",
    "                \n",
    "                return 1\n",
    "            \n",
    "        else:\n",
    "            -100\n",
    "            \n",
    "    except:\n",
    "        return -200\n",
    "\n",
    "# 5. Równoważność\n",
    "\n",
    "def ISEQ(x1, x2):\n",
    "    \"\"\"Funkcja dwuargumentowa, sprawdza równoważność.\"\"\"\n",
    "    \n",
    "    try:\n",
    "        xp1 = int(x1)\n",
    "        xp2 = int(x2)\n",
    "        \n",
    "        if ((xp1 == 0 or xp1 == 1) and (xp2 == 0 or xp2 == 1)):\n",
    "            \n",
    "            if (xp1 == 0 and xp2 == 0):\n",
    "                \n",
    "                return 1\n",
    "            \n",
    "            elif (xp1 == 0 and xp2 == 1):\n",
    "                \n",
    "                return 0\n",
    "            \n",
    "            elif (xp1 == 1 and xp2 == 0):\n",
    "                \n",
    "                return 0\n",
    "            \n",
    "            elif (xp1 == 1 and xp2 == 1):\n",
    "                \n",
    "                return 1\n",
    "            \n",
    "        else:\n",
    "            -100\n",
    "            \n",
    "    except:\n",
    "        return -200\n",
    "\n",
    "# 6. Alternatywa wykluczająca\n",
    "\n",
    "def XOR(x1, x2):\n",
    "    \"\"\"Funkcja dwuargumentowa, wykonuje alternatywę wykluczającą.\"\"\"\n",
    "    \n",
    "    try:\n",
    "        xp1 = int(x1)\n",
    "        xp2 = int(x2)\n",
    "        \n",
    "        if ((xp1 == 0 or xp1 == 1) and (xp2 == 0 or xp2 == 1)):\n",
    "            \n",
    "            if (xp1 == 0 and xp2 == 0):\n",
    "                \n",
    "                return 0\n",
    "            \n",
    "            elif (xp1 == 0 and xp2 == 1):\n",
    "                \n",
    "                return 1\n",
    "            \n",
    "            elif (xp1 == 1 and xp2 == 0):\n",
    "                \n",
    "                return 1\n",
    "            \n",
    "            elif (xp1 == 1 and xp2 == 1):\n",
    "                \n",
    "                return 0\n",
    "            \n",
    "        else:\n",
    "            -100\n",
    "            \n",
    "    except:\n",
    "        return -200\n",
    "    \n",
    "# 7. Dysjunkcja\n",
    "    \n",
    "def NAND(x1, x2):\n",
    "    \"\"\"Funkcja dwuargumentowa, wykonuje funkcję dysjunkcji (NAND).\"\"\"\n",
    "    \n",
    "    try:\n",
    "        xp1 = int(x1)\n",
    "        xp2 = int(x2)\n",
    "        \n",
    "        if ((xp1 == 0 or xp1 == 1) and (xp2 == 0 or xp2 == 1)):\n",
    "            \n",
    "            if (xp1 == 0 and xp2 == 0):\n",
    "                \n",
    "                return 1\n",
    "            \n",
    "            elif (xp1 == 0 and xp2 == 1):\n",
    "                \n",
    "                return 1\n",
    "            \n",
    "            elif (xp1 == 1 and xp2 == 0):\n",
    "                \n",
    "                return 1\n",
    "            \n",
    "            elif (xp1 == 1 and xp2 == 1):\n",
    "                \n",
    "                return 0\n",
    "            \n",
    "        else:\n",
    "            -100\n",
    "            \n",
    "    except:\n",
    "        return -200\n",
    "\n",
    "# 8. Binegacja\n",
    "\n",
    "def NOR(x1, x2):\n",
    "    \"\"\"Funkcja dwuargumentowa, wykonuje funkcję binegacji (NOR).\"\"\"\n",
    "    \n",
    "    try:\n",
    "        xp1 = int(x1)\n",
    "        xp2 = int(x2)\n",
    "        \n",
    "        if ((xp1 == 0 or xp1 == 1) and (xp2 == 0 or xp2 == 1)):\n",
    "            \n",
    "            if (xp1 == 0 and xp2 == 0):\n",
    "                \n",
    "                return 1\n",
    "            \n",
    "            elif (xp1 == 0 and xp2 == 1):\n",
    "                \n",
    "                return 0\n",
    "            \n",
    "            elif (xp1 == 1 and xp2 == 0):\n",
    "                \n",
    "                return 0\n",
    "            \n",
    "            elif (xp1 == 1 and xp2 == 1):\n",
    "                \n",
    "                return 0\n",
    "            \n",
    "        else:\n",
    "            -100\n",
    "            \n",
    "    except:\n",
    "        return -200"
   ]
  },
  {
   "cell_type": "code",
   "execution_count": 2,
   "metadata": {},
   "outputs": [
    {
     "name": "stdout",
     "output_type": "stream",
     "text": [
      "1. NEGACJA\n",
      "\n",
      "~0 = 1;\n",
      "~1 = 0;\n"
     ]
    }
   ],
   "source": [
    "print(\"1. NEGACJA\\n\")\n",
    "for i in [0, 1]:\n",
    "    print(f\"~{i} = {NOT(i)};\")"
   ]
  },
  {
   "cell_type": "code",
   "execution_count": 3,
   "metadata": {
    "scrolled": true
   },
   "outputs": [
    {
     "name": "stdout",
     "output_type": "stream",
     "text": [
      "2. ALTERNATYWA\n",
      "\n",
      "0 v 0 = 0;\n",
      "0 v 1 = 1;\n",
      "1 v 0 = 1;\n",
      "1 v 1 = 1;\n"
     ]
    }
   ],
   "source": [
    "print(\"2. ALTERNATYWA\\n\")\n",
    "for i in [[0, 0], [0, 1], [1, 0], [1, 1]]:\n",
    "    print(f\"{i[0]} v {i[1]} = {OR(i[0], i[1])};\")"
   ]
  },
  {
   "cell_type": "code",
   "execution_count": 4,
   "metadata": {
    "scrolled": false
   },
   "outputs": [
    {
     "name": "stdout",
     "output_type": "stream",
     "text": [
      "3. KONIUNKCJA\n",
      "\n",
      "0 ∧ 0 = 0;\n",
      "0 ∧ 1 = 0;\n",
      "1 ∧ 0 = 0;\n",
      "1 ∧ 1 = 1;\n"
     ]
    }
   ],
   "source": [
    "print(\"3. KONIUNKCJA\\n\")\n",
    "for i in [[0, 0], [0, 1], [1, 0], [1, 1]]:\n",
    "    print(f\"{i[0]} \\u2227 {i[1]} = {AND(i[0], i[1])};\")"
   ]
  },
  {
   "cell_type": "code",
   "execution_count": 5,
   "metadata": {},
   "outputs": [
    {
     "name": "stdout",
     "output_type": "stream",
     "text": [
      "4. IMPLIKACJA\n",
      "\n",
      "0 -> 0 = 1;\n",
      "0 -> 1 = 1;\n",
      "1 -> 0 = 0;\n",
      "1 -> 1 = 1;\n"
     ]
    }
   ],
   "source": [
    "print(\"4. IMPLIKACJA\\n\")\n",
    "for i in [[0, 0], [0, 1], [1, 0], [1, 1]]:\n",
    "    print(f\"{i[0]} -> {i[1]} = {IFTHEN(i[0], i[1])};\")"
   ]
  },
  {
   "cell_type": "code",
   "execution_count": 6,
   "metadata": {
    "scrolled": true
   },
   "outputs": [
    {
     "name": "stdout",
     "output_type": "stream",
     "text": [
      "5. RÓWNOWAŻNOŚĆ\n",
      "\n",
      "0 <=> 0 = 1;\n",
      "0 <=> 1 = 0;\n",
      "1 <=> 0 = 0;\n",
      "1 <=> 1 = 1;\n"
     ]
    }
   ],
   "source": [
    "print(\"5. RÓWNOWAŻNOŚĆ\\n\")\n",
    "for i in [[0, 0], [0, 1], [1, 0], [1, 1]]:\n",
    "    print(f\"{i[0]} <=> {i[1]} = {ISEQ(i[0], i[1])};\")"
   ]
  },
  {
   "cell_type": "code",
   "execution_count": 7,
   "metadata": {},
   "outputs": [
    {
     "name": "stdout",
     "output_type": "stream",
     "text": [
      "6. ALTERNATYWA WYKLUCZAJĄCA\n",
      "\n",
      "0 v̲ 0 = 0;\n",
      "0 v̲ 1 = 1;\n",
      "1 v̲ 0 = 1;\n",
      "1 v̲ 1 = 0;\n"
     ]
    }
   ],
   "source": [
    "print(\"6. ALTERNATYWA WYKLUCZAJĄCA\\n\")\n",
    "for i in [[0, 0], [0, 1], [1, 0], [1, 1]]:\n",
    "    print(f\"{i[0]} v\\u0332 {i[1]} = {XOR(i[0], i[1])};\")"
   ]
  },
  {
   "cell_type": "code",
   "execution_count": 8,
   "metadata": {},
   "outputs": [
    {
     "name": "stdout",
     "output_type": "stream",
     "text": [
      "7. DYSJUNKCJA\n",
      "\n",
      "0 ∧̅ 0 = 1;\n",
      "0 ∧̅ 1 = 1;\n",
      "1 ∧̅ 0 = 1;\n",
      "1 ∧̅ 1 = 0;\n"
     ]
    }
   ],
   "source": [
    "print(\"7. DYSJUNKCJA\\n\")\n",
    "for i in [[0, 0], [0, 1], [1, 0], [1, 1]]:\n",
    "    x1 = i[0]\n",
    "    x2 = i[1]\n",
    "    print(f\"{i[0]} \\u2227\\u0305 {i[1]} = {NAND(x1, x2)};\")"
   ]
  },
  {
   "cell_type": "code",
   "execution_count": 9,
   "metadata": {},
   "outputs": [
    {
     "name": "stdout",
     "output_type": "stream",
     "text": [
      "8. BINEGACJA\n",
      "\n",
      "0 v̅ 0 = 1;\n",
      "0 v̅ 1 = 0;\n",
      "1 v̅ 0 = 0;\n",
      "1 v̅ 1 = 0;\n"
     ]
    }
   ],
   "source": [
    "print(\"8. BINEGACJA\\n\")\n",
    "for i in [[0, 0], [0, 1], [1, 0], [1, 1]]:\n",
    "    x1 = i[0]\n",
    "    x2 = i[1]\n",
    "    print(f\"{i[0]} v\\u0305 {i[1]} = {NOR(x1, x2)};\")"
   ]
  },
  {
   "attachments": {},
   "cell_type": "markdown",
   "metadata": {},
   "source": [
    "# Tautologie\n",
    "\n",
    "Jeśli dwa zdania (lub funkcje zdaniowe lub zmienne zdaniowe) połączymy którymkolwiek z funktorów zdaniotwórczych, otrzymamy nowe, bardziej skomplikowane wyrażenie, które z kolei łączyć możemy funktorami zdaniotwórczymi itd. Dla uniknięcia wieloznaczności należy przed połączeniem dwóch wyrażeń funktorem ująć każde z nich w nawias. W ten sposób przechodzimy od zmiennych zdaniotwórczych do wyrażeń. \n",
    "\n",
    "Tautologie to takie wyrażenia sensowne, które przechodzą zawsze w zdania prawdziwe, o ile zmienne zastąpimy zdaniami. \n",
    "\n",
    "Prawdziwość czy fałszywość tych zdań nie ma przy tym żadnego wpływu na prawdziwość tautologii. \n",
    "\n",
    "Jeśli zmienne występujące w tautologii zastąpimy funkcjami zdaniowymi (wciąż pamiętając o tym, aby ta sama zmienna była zastąpiona zawsze tą samą funkcją zdaniową), to otrzymamy funkcję zdaniową prawdziwą, tzn. spełnioną przez każdy układ obiektów."
   ]
  },
  {
   "cell_type": "markdown",
   "metadata": {},
   "source": [
    "### Zadanie 2\n",
    "Korzystając z utworzonych funkcji logicznych oraz sporządzając tablice prawdy, sprawdzić słuszność praw de Morgana:\n",
    "\n",
    "- I prawo de Morgana: $\\vdash (\\sim (p \\wedge q)) \\leftrightarrow (\\sim p ~~ \\vee \\sim q)$\n",
    "- II prawo de Morgana: $\\vdash (\\sim (p \\vee q)) \\leftrightarrow (\\sim p ~~ \\wedge \\sim q)$"
   ]
  },
  {
   "cell_type": "code",
   "execution_count": 10,
   "metadata": {},
   "outputs": [
    {
     "name": "stdout",
     "output_type": "stream",
     "text": [
      "I prawo de Morgana\n",
      "\n",
      "p = 0 | q = 0 | 1;\n",
      "p = 0 | q = 1 | 1;\n",
      "p = 1 | q = 0 | 1;\n",
      "p = 1 | q = 1 | 1;\n",
      "\n",
      "Zdanie JEST tautologią\n"
     ]
    }
   ],
   "source": [
    "# I prawo de Morgana\n",
    "\n",
    "print(\"I prawo de Morgana\\n\")\n",
    "counter = 0\n",
    "for i in [[0, 0], [0, 1], [1, 0], [1, 1]]:\n",
    "    p = i[0]\n",
    "    q = i[1]\n",
    "    \n",
    "    a = AND(p, q)\n",
    "    b = NOT(a)\n",
    "    \n",
    "    c = NOT(p)\n",
    "    d = NOT(q)\n",
    "    e = OR(c, d)\n",
    "    \n",
    "    f = ISEQ(b, e)\n",
    "    \n",
    "    counter = counter + f\n",
    "    \n",
    "    print(f\"p = {p} | q = {q} | {f};\")\n",
    "\n",
    "if (counter == 4):\n",
    "    print(\"\\nZdanie JEST tautologią\")\n",
    "else: \n",
    "    print(\"\\nZdanie NIE JEST tautologią\")"
   ]
  },
  {
   "cell_type": "code",
   "execution_count": 11,
   "metadata": {},
   "outputs": [
    {
     "name": "stdout",
     "output_type": "stream",
     "text": [
      "II prawo de Morgana\n",
      "\n",
      "p = 0 | q = 0 | 1;\n",
      "p = 0 | q = 1 | 1;\n",
      "p = 1 | q = 0 | 1;\n",
      "p = 1 | q = 1 | 1;\n",
      "\n",
      "Zdanie JEST tautologią\n"
     ]
    }
   ],
   "source": [
    "# II prawo de Morgana\n",
    "\n",
    "print(\"II prawo de Morgana\\n\")\n",
    "counter = 0\n",
    "for i in [[0, 0], [0, 1], [1, 0], [1, 1]]:\n",
    "    \n",
    "    p = i[0]\n",
    "    q = i[1]\n",
    "    \n",
    "    a = OR(p, q)\n",
    "    b = NOT(a)\n",
    "    \n",
    "    c = NOT(p)\n",
    "    d = NOT(q)\n",
    "    e = AND(c, d)\n",
    "    \n",
    "    f = ISEQ(b, e)\n",
    "    \n",
    "    counter = counter + f\n",
    "    \n",
    "    print(f\"p = {p} | q = {q} | {f};\")\n",
    "    \n",
    "if (counter == 4):\n",
    "    print(\"\\nZdanie JEST tautologią\")\n",
    "else: \n",
    "    print(\"\\nZdanie NIE JEST tautologią\")"
   ]
  },
  {
   "cell_type": "markdown",
   "metadata": {},
   "source": [
    "### Zadanie 3 \n",
    "\n",
    "Sporządzając tablicę prawdy, sprawdzić słuszność prawa sylogizmu warunkowego: $\\vdash (\\sim (p \\rightarrow q)) \\rightarrow [(q \\rightarrow r)\\rightarrow(p \\rightarrow r)]$ \n"
   ]
  },
  {
   "cell_type": "code",
   "execution_count": 12,
   "metadata": {},
   "outputs": [
    {
     "name": "stdout",
     "output_type": "stream",
     "text": [
      "Prawo sylogizmu warunkowego\n",
      "\n",
      "p = 1 | q = 1 | r = 1 | 1;\n",
      "p = 1 | q = 1 | r = 0 | 1;\n",
      "p = 1 | q = 0 | r = 1 | 1;\n",
      "p = 1 | q = 0 | r = 0 | 1;\n",
      "p = 0 | q = 1 | r = 1 | 1;\n",
      "p = 0 | q = 1 | r = 0 | 1;\n",
      "p = 0 | q = 0 | r = 1 | 1;\n",
      "p = 0 | q = 0 | r = 0 | 1;\n",
      "\n",
      "Zdanie JEST tautologią\n"
     ]
    }
   ],
   "source": [
    "# Prawo sylogizmu warunkowego\n",
    "\n",
    "print(\"Prawo sylogizmu warunkowego\\n\")\n",
    "counter = 0\n",
    "for i in [[1, 1, 1], [1, 1, 0], [1, 0, 1], [1, 0, 0], [0, 1, 1], [0, 1, 0], [0, 0, 1], [0, 0, 0]]:\n",
    "    \n",
    "    p = i[0]\n",
    "    q = i[1]\n",
    "    r = i[2]\n",
    "    \n",
    "    a = IFTHEN(q, r)\n",
    "    b = IFTHEN(p, r)\n",
    "    c = IFTHEN(p, q)\n",
    "    d = IFTHEN(a, b)\n",
    "    \n",
    "    e = IFTHEN(c, d)\n",
    "    \n",
    "    counter = counter + e\n",
    "    \n",
    "    print(f\"p = {p} | q = {q} | r = {r} | {e};\")\n",
    "    \n",
    "if (counter == 8):\n",
    "    print(\"\\nZdanie JEST tautologią\")\n",
    "else: \n",
    "    print(\"\\nZdanie NIE JEST tautologią\")"
   ]
  },
  {
   "cell_type": "markdown",
   "metadata": {},
   "source": [
    "### Zadanie 4\n",
    "\n",
    "Sporządzając tablicę prawdy, sprawdzić słuszność prawa transpozycji: $\\vdash ((\\sim p) \\rightarrow (\\sim q)) \\rightarrow (q \\rightarrow p)$"
   ]
  },
  {
   "cell_type": "code",
   "execution_count": 13,
   "metadata": {},
   "outputs": [
    {
     "name": "stdout",
     "output_type": "stream",
     "text": [
      "Prawo transpozycji\n",
      "\n",
      "p = 0 | q = 0 | 1;\n",
      "p = 0 | q = 1 | 1;\n",
      "p = 1 | q = 0 | 1;\n",
      "p = 1 | q = 1 | 1;\n",
      "\n",
      "Zdanie JEST tautologią\n"
     ]
    }
   ],
   "source": [
    "# Prawo transpozycji\n",
    "\n",
    "print(\"Prawo transpozycji\\n\")\n",
    "counter = 0\n",
    "for i in [[0, 0], [0, 1], [1, 0], [1, 1]]:\n",
    "    \n",
    "    p = i[0]\n",
    "    q = i[1]\n",
    "    \n",
    "    np = NOT(p)\n",
    "    nq = NOT(q)\n",
    "    \n",
    "    a = IFTHEN(np, nq)\n",
    "    b = IFTHEN(q, p)\n",
    "    \n",
    "    c = IFTHEN(a, b)\n",
    "    \n",
    "    counter = counter + c\n",
    "    \n",
    "    print(f\"p = {p} | q = {q} | {c};\")\n",
    "    \n",
    "if (counter == 4):\n",
    "    print(\"\\nZdanie JEST tautologią\")\n",
    "else: \n",
    "    print(\"\\nZdanie NIE JEST tautologią\")"
   ]
  },
  {
   "cell_type": "markdown",
   "metadata": {},
   "source": [
    "### Zadanie 5\n",
    "Sporządzając tablicę prawdy, sprawdzić słuszność prawa Claviusa: $\\vdash ((\\sim p) \\rightarrow p) \\rightarrow p$"
   ]
  },
  {
   "cell_type": "code",
   "execution_count": 14,
   "metadata": {},
   "outputs": [
    {
     "name": "stdout",
     "output_type": "stream",
     "text": [
      "Prawo Claviusa\n",
      "\n",
      "p = 0 | 1;\n",
      "p = 1 | 1;\n",
      "\n",
      "Zdanie JEST tautologią\n"
     ]
    }
   ],
   "source": [
    "# Prawo Claviusa\n",
    "\n",
    "print(\"Prawo Claviusa\\n\")\n",
    "counter = 0\n",
    "for i in [0, 1]:\n",
    "    \n",
    "    p = i\n",
    "    \n",
    "    np = NOT(p)\n",
    "    \n",
    "    a = IFTHEN(np, p)\n",
    "    b = IFTHEN(a, p)\n",
    "    \n",
    "    counter = counter + b\n",
    "    \n",
    "    print(f\"p = {p} | {c};\")\n",
    "    \n",
    "if (counter == 2):\n",
    "    print(\"\\nZdanie JEST tautologią\")\n",
    "else: \n",
    "    print(\"\\nZdanie NIE JEST tautologią\")"
   ]
  },
  {
   "cell_type": "markdown",
   "metadata": {},
   "source": [
    "### Zadanie 6\n",
    "Sporządzając tablicę prawdy, sprawdzić słuszność prawa Dunsa Scotusa: $\\vdash (\\sim p) \\rightarrow (p \\rightarrow q) $"
   ]
  },
  {
   "cell_type": "code",
   "execution_count": 15,
   "metadata": {},
   "outputs": [
    {
     "name": "stdout",
     "output_type": "stream",
     "text": [
      "Prawo Dunsa Scotusa\n",
      "\n",
      "p = 0 | q = 0 | 1;\n",
      "p = 0 | q = 1 | 1;\n",
      "p = 1 | q = 0 | 1;\n",
      "p = 1 | q = 1 | 1;\n",
      "\n",
      "Zdanie JEST tautologią\n"
     ]
    }
   ],
   "source": [
    "# Prawo Dunsa Scotusa\n",
    "\n",
    "print(\"Prawo Dunsa Scotusa\\n\")\n",
    "counter = 0\n",
    "for i in [[0, 0], [0, 1], [1, 0], [1, 1]]:\n",
    "    \n",
    "    p = i[0]\n",
    "    q = i[1]\n",
    "    \n",
    "    np = NOT(p)\n",
    "    \n",
    "    a = IFTHEN(p, q)\n",
    "    b = IFTHEN(np, a)\n",
    "    \n",
    "    counter = counter + b\n",
    "    \n",
    "    print(f\"p = {p} | q = {q} | {b};\")\n",
    "    \n",
    "if (counter == 4):\n",
    "    print(\"\\nZdanie JEST tautologią\")\n",
    "else: \n",
    "    print(\"\\nZdanie NIE JEST tautologią\")"
   ]
  },
  {
   "cell_type": "markdown",
   "metadata": {},
   "source": [
    "### Zadanie 7\n",
    "Sporządzając tablicę prawdy, sprawdzić słuszność prawa podwójnego przeczenia: \n",
    "- $\\vdash p \\rightarrow (\\sim(\\sim p))$\n",
    "- $\\vdash (\\sim(\\sim p)) \\rightarrow p$"
   ]
  },
  {
   "cell_type": "code",
   "execution_count": 16,
   "metadata": {},
   "outputs": [
    {
     "name": "stdout",
     "output_type": "stream",
     "text": [
      "Prawo podwójnego przeczenia (1)\n",
      "\n",
      "p = 0 | 1;\n",
      "p = 1 | 1;\n",
      "\n",
      "Zdanie JEST tautologią\n"
     ]
    }
   ],
   "source": [
    "print(\"Prawo podwójnego przeczenia (1)\\n\")\n",
    "counter = 0\n",
    "for i in [0, 1]:\n",
    "    \n",
    "    p = i\n",
    "    \n",
    "    np = NOT(p)\n",
    "    \n",
    "    nnp = NOT(np)\n",
    "    \n",
    "    a = IFTHEN(p, nnp)\n",
    "    \n",
    "    counter = counter + a\n",
    "    \n",
    "    print(f\"p = {p} | {a};\")\n",
    "    \n",
    "if (counter == 2):\n",
    "    print(\"\\nZdanie JEST tautologią\")\n",
    "else: \n",
    "    print(\"\\nZdanie NIE JEST tautologią\")"
   ]
  },
  {
   "cell_type": "code",
   "execution_count": 17,
   "metadata": {},
   "outputs": [
    {
     "name": "stdout",
     "output_type": "stream",
     "text": [
      "Prawo podwójnego przeczenia (2)\n",
      "\n",
      "p = 0 | 1;\n",
      "p = 1 | 1;\n",
      "\n",
      "Zdanie JEST tautologią\n"
     ]
    }
   ],
   "source": [
    "print(\"Prawo podwójnego przeczenia (2)\\n\")\n",
    "counter = 0\n",
    "for i in [0, 1]:\n",
    "    \n",
    "    p = i\n",
    "    \n",
    "    np = NOT(p)\n",
    "    \n",
    "    nnp = NOT(np)\n",
    "    \n",
    "    a = IFTHEN(nnp, p)\n",
    "    \n",
    "    counter = counter + a\n",
    "    \n",
    "    print(f\"p = {p} | {a};\")\n",
    "    \n",
    "if (counter == 2):\n",
    "    print(\"\\nZdanie JEST tautologią\")\n",
    "else: \n",
    "    print(\"\\nZdanie NIE JEST tautologią\")"
   ]
  }
 ],
 "metadata": {
  "kernelspec": {
   "display_name": "Python 3.8.5 64-bit ('anaconda3': conda)",
   "language": "python",
   "name": "python385jvsc74a57bd0a9b6150e886ae0f8e25cbc0154a230926fd2f93e6a46324ab31595f94340f577"
  },
  "language_info": {
   "codemirror_mode": {
    "name": "ipython",
    "version": 3
   },
   "file_extension": ".py",
   "mimetype": "text/x-python",
   "name": "python",
   "nbconvert_exporter": "python",
   "pygments_lexer": "ipython3",
   "version": "3.8.5"
  }
 },
 "nbformat": 4,
 "nbformat_minor": 4
}

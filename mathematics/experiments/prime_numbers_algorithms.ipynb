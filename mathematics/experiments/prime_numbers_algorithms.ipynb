{
 "cells": [
  {
   "cell_type": "markdown",
   "id": "26300d4a-c4f8-4bc3-b0d4-a033f9fa39af",
   "metadata": {},
   "source": [
    "# Algorithms for checking the primality of numbers"
   ]
  },
  {
   "cell_type": "markdown",
   "id": "265d7cd9-f0fc-494d-9452-038d9b0a6fe5",
   "metadata": {},
   "source": [
    "## Trial division algorithm [1]:"
   ]
  },
  {
   "cell_type": "code",
   "execution_count": 10,
   "id": "8517b5c1-5a0a-4db3-9b7e-ac0b9969f6c3",
   "metadata": {},
   "outputs": [],
   "source": [
    "def isPrimeTrialDiv(num):\n",
    "    if num < 2:\n",
    "        return False\n",
    "    for i in range(2, int(math.sqrt(num)) + 1): \n",
    "        if num % i == 0:\n",
    "            return False\n",
    "    return True"
   ]
  },
  {
   "cell_type": "markdown",
   "id": "96fdc3eb-171b-45e0-9285-0e98f877b799",
   "metadata": {},
   "source": [
    "## Rabin-Miller algorithm [1]:"
   ]
  },
  {
   "cell_type": "code",
   "execution_count": 24,
   "id": "e4f476b5-7f4f-413d-a37b-8b78ea5ec079",
   "metadata": {},
   "outputs": [],
   "source": [
    "def rabinMiller(num):\n",
    "    if num % 2 == 0 or num < 2:\n",
    "        return False\n",
    "    if num == 3:\n",
    "        return True\n",
    "    s = num - 1\n",
    "    t = 0\n",
    "    while s%2 == 0:\n",
    "        s = s // 2\n",
    "        t += 1\n",
    "    for trials in range (5):\n",
    "        a = random.randrange(2, num - 1)\n",
    "        v = pow(a, s, num)\n",
    "        if v!= 1:\n",
    "            i = 0\n",
    "            while v != (num - 1):\n",
    "                if i == t - 1:\n",
    "                    return False\n",
    "                else:\n",
    "                    i = i+1\n",
    "                    v = (v**2) % num\n",
    "\n",
    "    return True"
   ]
  },
  {
   "cell_type": "markdown",
   "id": "c4be5277-c240-4563-a49f-87b7a173afe1",
   "metadata": {},
   "source": [
    "## Lucas-Lehmer test:"
   ]
  },
  {
   "cell_type": "code",
   "execution_count": null,
   "id": "ae783077-baa0-4047-8fc8-faca46738feb",
   "metadata": {},
   "outputs": [],
   "source": [
    "#pip install gmpy2"
   ]
  },
  {
   "cell_type": "code",
   "execution_count": null,
   "id": "bce83c2a-b230-4dcc-a3dd-b1ca4d3e697a",
   "metadata": {},
   "outputs": [],
   "source": [
    "from gmpy2 import *\n",
    "from datetime import *\n",
    "\n",
    "def Lucas_Lehmer(p):\n",
    "    s = xmpz(4)\n",
    "    M = xmpz(2 ** p) - 1\n",
    "    startt = datetime.now()\n",
    "    for i in range(0, p - 2):\n",
    "        time_elapsed = datetime.now() - startt\n",
    "        speed = i / (time_elapsed.total_seconds() + 1)\n",
    "        remaining = (p - 2 - i) / (speed + 1)\n",
    "        if i % int(speed + 1) == 0:\n",
    "            print('Czas pozostały (hh:mm:ss.ms) {} czas wykonywania {}'.format(timedelta(seconds=remaining), time_elapsed))\n",
    "        if (s.bit_length() <= p):\n",
    "            # Podstawowa wersja algorytmu dla s o bitach <= p\n",
    "            s = s * s - 2\n",
    "            s = f_mod(s, M)\n",
    "        else:\n",
    "            # Optymalizacja dla s bitów > p\n",
    "            s = s * s - 2\n",
    "            md = s.bit_length() % 2\n",
    "            right = s.bit_length() // 2 + md\n",
    "            left = s.bit_length() // 2\n",
    "            s = s[0:right] + f_mod(s[left:], M)\n",
    "\n",
    "    if s == 0:\n",
    "        return True\n",
    "    else:\n",
    "        return False"
   ]
  },
  {
   "cell_type": "markdown",
   "id": "ce4a43e0-5960-4cf2-831c-0eb54c3d0130",
   "metadata": {},
   "source": [
    "## Fermat test [3]:\n",
    "\n",
    "Implementation in C++ here: https://mattomatti.com/pl/a0054"
   ]
  },
  {
   "cell_type": "markdown",
   "id": "659ecf75-c014-4e2a-af1b-cf511dba089d",
   "metadata": {},
   "source": [
    "## Lucas-Lehmer algorithm for Mersenne primes [2]: "
   ]
  },
  {
   "cell_type": "markdown",
   "id": "eb176b73-6580-4255-a02e-9521aa3d52ba",
   "metadata": {},
   "source": [
    "## References\n",
    "\n",
    "1. A. Sweigart, \"Złam ten kod z Pythonem\", Helion, Gliwice 2018, ISBN 978-83-283-7495-9\n",
    "2. https://pl.wikipedia.org/wiki/Test_Lucasa-Lehmera\n",
    "3. https://mattomatti.com/pl/a0054"
   ]
  },
  {
   "cell_type": "code",
   "execution_count": 22,
   "id": "692bad7f-37ed-4f0b-8180-dbddc65913ff",
   "metadata": {},
   "outputs": [
    {
     "name": "stdout",
     "output_type": "stream",
     "text": [
      "Collecting gmpy2\n",
      "  Downloading gmpy2-2.2.1-cp312-cp312-macosx_10_9_x86_64.whl.metadata (2.8 kB)\n",
      "Downloading gmpy2-2.2.1-cp312-cp312-macosx_10_9_x86_64.whl (885 kB)\n",
      "\u001b[2K   \u001b[90m━━━━━━━━━━━━━━━━━━━━━━━━━━━━━━━━━━━━━━━━\u001b[0m \u001b[32m885.2/885.2 kB\u001b[0m \u001b[31m7.1 MB/s\u001b[0m eta \u001b[36m0:00:00\u001b[0m00:01\u001b[0m00:01\u001b[0m\n",
      "\u001b[?25hInstalling collected packages: gmpy2\n",
      "Successfully installed gmpy2-2.2.1\n"
     ]
    }
   ],
   "source": []
  },
  {
   "cell_type": "code",
   "execution_count": null,
   "id": "1f0be69d-5865-412e-9d39-5cdbc0c7f94d",
   "metadata": {},
   "outputs": [],
   "source": []
  }
 ],
 "metadata": {
  "kernelspec": {
   "display_name": "Python 3 (ipykernel)",
   "language": "python",
   "name": "python3"
  },
  "language_info": {
   "codemirror_mode": {
    "name": "ipython",
    "version": 3
   },
   "file_extension": ".py",
   "mimetype": "text/x-python",
   "name": "python",
   "nbconvert_exporter": "python",
   "pygments_lexer": "ipython3",
   "version": "3.12.4"
  }
 },
 "nbformat": 4,
 "nbformat_minor": 5
}

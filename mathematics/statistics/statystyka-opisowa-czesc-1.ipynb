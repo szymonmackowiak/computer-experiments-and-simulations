{
 "cells": [
  {
   "cell_type": "markdown",
   "id": "4212d50d",
   "metadata": {},
   "source": [
    "# STATYSTYKA OPISOWA - WSTĘP\n",
    "\n",
    "## 1. Rys historyczny \n",
    "\n",
    "Za Mieczysławem Sobczykiem [1]:\n",
    ">\"Termin statystyka wywodzi się od łacińskiego słowa status czyli państwo. W piśmiennictwie słowo statystyka po raz pierwszy zostało użyte w połowie XVIII w. przez Gottfrieda Achenwalla (1719 – 1772), profesora uniwersytetu w Marburgu, a następnie w Getyndze. Do połowy XIX w. określenie statystyka oznaczało zbiór danych liczbowych dotyczących stanu państwa, a następnie wszelkie gromadzone informacje opisujące świat zewnętrzny. Duże zbiory danych liczbowych wymagały odpowiedniej analizy. Ujmowano je w postaci zestawień tabelarycznych. Autorów tego rodzaju tablic nazywano tabelarystami. Za twórcę kierunku tabelarystycznego uważa się Duńczyka J.P. Anchersena, który swej opublikowanej w 1741 r. pracy nadał znamienny tytuł: Descriptio statuum cultiorium in tabulis. Tak więc termin statystyka ma swoje źródło merytoryczne w badaniach państwoznawczych, a metodologiczne – w pracach tabelarystów. Dynamiczny rozwój statystyki jako narzędzia wykorzystywanego do opisu zjawisk gospodarczych (tablice bilansowe, warunki bytu ludności itp.) datuje się od czasów A. Quetleta (1796 – 1874). W okresie tym statystykę zaczęto traktować jako naukę, czego wyrazem było powołanie w 1834 r. w Anglii Królewskiego Towarzystwa Statystycznego oraz zwołanie w Brukseli I Międzynarodowego Kongresu Statystycznego (1854 r.).\""
   ]
  },
  {
   "cell_type": "markdown",
   "id": "727112c6",
   "metadata": {},
   "source": [
    "## 2. Znaczenie terminu \"statystyka\":\n",
    "- dane (zbiory danych),\n",
    "- prace związane z gromadzeniem danych,\n",
    "- opracowania danych, \n",
    "- charakterystyki opisowe, \n",
    "- dyscyplina naukowa."
   ]
  },
  {
   "cell_type": "markdown",
   "id": "7fdbdbaa",
   "metadata": {},
   "source": [
    "## 3. Cel metod statystycznych:\n",
    "- analizowanie procesów społecznych, demograficznych, społecznych itp.\n",
    "- podejmowanie prawidłowych (optymalnych) decyzji.\n",
    "\n",
    "**Metoda** - sposób dochodzenia do ustalonego celu.\n",
    "\n",
    "Celem stosowania metod statystycznych jest liczbowe rozpoznanie struktury, współzależności i dynamiki zjawisk masowych.\n",
    "\n",
    "Celem analiz statystycznych jest wykrycie prawidłowości rządzących badanymi zjawiskami masowymi. \n",
    "\n",
    "Prawidłowości mogą być skutkiem oddziaływania dwóch grup przyczyn:\n",
    "- głównych (systematycznych) - działają na badane zjawisko w sposób jednokierunkowy, kształtują tzw. składnik systematyczny\n",
    "- ubocznych (przypadkowych) - występują w dużej ilości, działają wielokierunkowo, ujawniają się w poszczególnych badanych przypadkach, wywołują odchylenia od prawidłowości w obserwowanej zbiorowości, kształtują tzw. składnik przypadkowy.\n",
    "\n",
    "Skutki działania przyczyn głównych ujawniają się tym wyraźniej im liczniejsza jest badana zbiorowość - zawdzięczamy to **prawu wielkich liczb**.\n",
    "\n",
    "**Prawo wielkich liczb** - przy dostatecznie dużej liczbie obserwacji dot. danego zjawiska, skutki przyczyn ubocznych redukują się, natomiast ujawniają się prawidłowości. \n"
   ]
  },
  {
   "cell_type": "markdown",
   "id": "99896264",
   "metadata": {},
   "source": [
    "## 4. Statystykę zasadniczo można podzielić na:\n",
    "- statystykę opisową,\n",
    "- statystykę matematyczną.\n",
    "\n",
    "**Statystyka opisowa** - zakładamy, że dysponujemy pełnymi danymi na temat całej badanej zbiorowości i opisujemy ją za pomocą takich wielkości jak miary średnie, miary rozproszenia, miary asymetrii, miary koncentracji... Celem analiz jest wszechstronny opis danych. Problemy statystyki oprisowej dotyczą procesu badań, metod obserwacji, sposobów opracowywania i prezentacji materiału statystycznego oraz parametry opisujące właściwości zbioru danych.\n",
    "\n",
    "**Statystyka matematyczna** - zakładamy, że nasza wiedza na temat całej zbiorowości jest niepełna (nie mamy danych szczegółowych na temat całej zbiorowości, ale możemy dysponować wiedzą np. na temat rodzajów panujących w niej rozkładach). Dyspozujemy natomiast pełną wiedzą na temat próbki danych i na podstawie wielkości opisujących próbkę podejmujemy próbę szacowania wielkości charakteryzujących całą zbiorowość. Proces szacowania nazywać będziemy **estymacją**, z kolei formułowane sądy dot. wielkości opisuących całą zbiorowość będziemy nazywać **hipotezami statystycznymi**. Statystyka matematyczna zajmuje się właśnie wnioskowaniem - estymacją i weryfikacją hipotez o całej zbiorowości w oparciu o losowo wybraną jej próbkę. Metody statystyki matematycznej znajdują zastosowanie w zakresie tzw. badań niepełnych/częściowych. Kluczowej jest jednak to, aby wybrana próba była **reprezentatywna** (jej struktura była zbliżona do struktury całej zbiorowości pod względem badanej cechy). Zapewnienie reprezentatywności próby losowej nie jest prostym zagadnieniem. Statystyka matematyczna w wielu miejscach korzysta z elementów **rachunku prawdopodobieństwa**."
   ]
  },
  {
   "cell_type": "markdown",
   "id": "6c39695e",
   "metadata": {},
   "source": [
    "## 5. Opis statystyczny a wnioskowanie statystyczne - porównanie:\n",
    "- opis statystyczny odpowiada na pytanie \"jak jest?\", wnioskowanie statystyczne odpowiada na pytanie \"jak prawdopodobnie może być?\"\n",
    "- wnioskowanie statystyczne (estymacja, weryfikacja hipotez) odbywa się w warunkach niepewności\n",
    "- wnioskowanie statystyczne nazywamy wnioskowaniem indukcyjnym o charakterze stochastycznym (losowym/przypadkowym)"
   ]
  },
  {
   "cell_type": "markdown",
   "id": "828d3ce7",
   "metadata": {},
   "source": [
    "---"
   ]
  },
  {
   "cell_type": "markdown",
   "id": "3ebea326",
   "metadata": {},
   "source": [
    "# Literatura:\n",
    "\n",
    "1. M. Sobczyk, \"Statystyka opisowa\", C.H. Beck, Warszawa 2010\n",
    "2. M. Sobczyk, \"Statystyka\", PWN, Warszawa, 2007.\n",
    "3. Kanał Youtube \"Matematyka na plus\" (https://www.youtube.com/channel/UCsGOOTLKmmcxgiKQ66_yYag)\n",
    "4. https://cyrkiel.info/statystyka/rozklad-poissona/"
   ]
  },
  {
   "cell_type": "code",
   "execution_count": null,
   "id": "6eb7aeea",
   "metadata": {},
   "outputs": [],
   "source": []
  }
 ],
 "metadata": {
  "kernelspec": {
   "display_name": "Python 3",
   "language": "python",
   "name": "python3"
  },
  "language_info": {
   "codemirror_mode": {
    "name": "ipython",
    "version": 3
   },
   "file_extension": ".py",
   "mimetype": "text/x-python",
   "name": "python",
   "nbconvert_exporter": "python",
   "pygments_lexer": "ipython3",
   "version": "3.8.5"
  }
 },
 "nbformat": 4,
 "nbformat_minor": 5
}

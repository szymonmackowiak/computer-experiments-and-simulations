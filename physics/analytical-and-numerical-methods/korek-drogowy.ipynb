{
 "cells": [
  {
   "cell_type": "markdown",
   "metadata": {},
   "source": [
    "# Problem korków drogowych\n",
    "\n",
    "Zadanie dotyczy znanego powszechnie zjawiska spowolnienia ruchu na autostradzie w godzinach wzmożonego ruchu). Pozornie może wydawać się że samochody mogłyby poruszac sie szybciej. W niniejszym ćwiczeniu - korzystając z aparatu fizycznego postaramy się sprawdzić czy tak faktycznie jest.\n",
    "\n",
    "Założenia: \n",
    "\n",
    "1. Samochody poruszaja sie jeden za drugim z identyczna predkoscia $v$.\n",
    "2. Wszystkie poruszajace samochody sa identyczne i maja dlugosc $L0$. \n",
    "3. Kierowcy samochodów maja ten sam czas reakcji $TR$. \n",
    "4. Kierowcy utrzymuja miedzy samochodami identyczną (bezpieczną) odleglosc $Db$ (mierzoną między zderzakami samochodów). Ta odległość jest równa sumie dwuch składnikow: $Dr$ i $Dh$. $Dr$ to droga reakcji (odległość, jaką samochód przejedzie, zanim kierowca naciśnie pedał hamulca). Dh to droga hamowania (drogą, jaką samochod przejedzie od momentu naciśniecia hamulca do momentu zatrzymania samochodu). \n",
    "5. Wszystkie samochody hamują w równie efektywny sposob - przyśpieszenie (ujemne) jakiemu ulega samochod podczas hamowania wynosi $f \\cdot g$, gdzie $f$ jest współczynnikiem tarcia między oponami a powierzchnią autostrady, a $g$ to przyspieszenie ziemskie.\n",
    "\n",
    "Uwzględniając powyższe założenia zdefiniuj wyrażenia opisujace:\n",
    "1. Drogę reakcji $Dr$.\n",
    "2. Drogę hamowania $Dh$ (znajdź czas $Th$, po którym prędkość spadnie do zera, a nastepnie oblicz drogę $Dh$ przebytą w tym czasie.)\n",
    "3. Odległość bezpieczną $Db=Dr+Dh$.\n",
    "4. Odleglość $Ds$ zajmowaną przez jeden samochód w poruszającej sie kolumnie $Ds=L0+Db$.\n",
    "5. Określ $T$, z którym samochody przejeżdżają pewien nieruchomy punkt kontrolny.\n",
    "\n",
    "Przyjmujac:\n",
    "- $g=9.81~~ \\rm{[m/s^2]}$,\n",
    "- $f=0.5$,\n",
    "- $TR=0.5~~ \\rm{[s]}$,\n",
    "- $L0=4~~ \\rm{[m]}$,\n",
    "\n",
    "6. Wykonaj wykres zalezności okresu T od predkości v.\n",
    "7. Znajdź optymalną prędkość vopt, przy której przepustowość autostrady osiąga swe maksimum, to znaczy znajdź minimum zaleznosci $T(v)$. (W tym celu oblicz pochodną $dT/dv$ i znajdź tą wartość vopt, dla której pochodna ta równa jest 0).\n",
    "8. Zbadaj, jak optymalna prędkość vopt zalezy od $f$, $TR$ i $L0$.\n",
    "9. Zbadaj, jak okres T zależy od czasu reakcji kierowów TR."
   ]
  },
  {
   "cell_type": "markdown",
   "metadata": {},
   "source": [
    "Obliczenia w m/s"
   ]
  },
  {
   "cell_type": "code",
   "execution_count": 1,
   "metadata": {},
   "outputs": [],
   "source": [
    "T, v, L0, g, f, TR, Dr, ah, Th, Dh, Db, Ds, T, v = var('T, v, L0, g, f, TR, Dr, ah, Th, Dh, Db, Ds, T, v')"
   ]
  },
  {
   "cell_type": "markdown",
   "metadata": {},
   "source": [
    "## ad. 1: Określanie drogi reakcji (Dr)"
   ]
  },
  {
   "cell_type": "code",
   "execution_count": 2,
   "metadata": {
    "scrolled": true
   },
   "outputs": [
    {
     "data": {
      "text/html": [
       "<html>\\(\\displaystyle \\mathit{TR} v\\)</html>"
      ],
      "text/latex": [
       "$\\displaystyle \\mathit{TR} v$"
      ],
      "text/plain": [
       "TR*v"
      ]
     },
     "metadata": {},
     "output_type": "display_data"
    }
   ],
   "source": [
    "Dr = v*TR\n",
    "show(Dr)"
   ]
  },
  {
   "cell_type": "markdown",
   "metadata": {},
   "source": [
    "## ad. 2: Określanie drogi hamowania (Dh)"
   ]
  },
  {
   "cell_type": "code",
   "execution_count": 3,
   "metadata": {},
   "outputs": [
    {
     "data": {
      "text/html": [
       "<html>\\(\\displaystyle f g\\)</html>"
      ],
      "text/latex": [
       "$\\displaystyle f g$"
      ],
      "text/plain": [
       "f*g"
      ]
     },
     "metadata": {},
     "output_type": "display_data"
    }
   ],
   "source": [
    "ah = f*g\n",
    "show(ah)"
   ]
  },
  {
   "cell_type": "code",
   "execution_count": 4,
   "metadata": {},
   "outputs": [
    {
     "data": {
      "text/html": [
       "<html>\\(\\displaystyle \\frac{v}{f g}\\)</html>"
      ],
      "text/latex": [
       "$\\displaystyle \\frac{v}{f g}$"
      ],
      "text/plain": [
       "v/(f*g)"
      ]
     },
     "metadata": {},
     "output_type": "display_data"
    }
   ],
   "source": [
    "Th = v/ah\n",
    "show(Th)"
   ]
  },
  {
   "cell_type": "code",
   "execution_count": 5,
   "metadata": {},
   "outputs": [
    {
     "data": {
      "text/html": [
       "<html>\\(\\displaystyle \\frac{v^{2}}{2 \\, f g}\\)</html>"
      ],
      "text/latex": [
       "$\\displaystyle \\frac{v^{2}}{2 \\, f g}$"
      ],
      "text/plain": [
       "1/2*v^2/(f*g)"
      ]
     },
     "metadata": {},
     "output_type": "display_data"
    }
   ],
   "source": [
    "Dh = v*Th - ah*Th**2/2\n",
    "show(Dh)"
   ]
  },
  {
   "cell_type": "markdown",
   "metadata": {},
   "source": [
    "## ad. 3: Określanie drogi bezpiecznej (Db)"
   ]
  },
  {
   "cell_type": "code",
   "execution_count": 6,
   "metadata": {},
   "outputs": [
    {
     "data": {
      "text/html": [
       "<html>\\(\\displaystyle \\mathit{TR} v + \\frac{v^{2}}{2 \\, f g}\\)</html>"
      ],
      "text/latex": [
       "$\\displaystyle \\mathit{TR} v + \\frac{v^{2}}{2 \\, f g}$"
      ],
      "text/plain": [
       "TR*v + 1/2*v^2/(f*g)"
      ]
     },
     "metadata": {},
     "output_type": "display_data"
    }
   ],
   "source": [
    "Db = Dr + Dh\n",
    "show(Db)"
   ]
  },
  {
   "cell_type": "markdown",
   "metadata": {},
   "source": [
    "## ad. 4: Określanie odległości zajmowanej przez jeden samochód (Ds)"
   ]
  },
  {
   "cell_type": "code",
   "execution_count": 7,
   "metadata": {},
   "outputs": [
    {
     "data": {
      "text/html": [
       "<html>\\(\\displaystyle \\mathit{TR} v + L_{0} + \\frac{v^{2}}{2 \\, f g}\\)</html>"
      ],
      "text/latex": [
       "$\\displaystyle \\mathit{TR} v + L_{0} + \\frac{v^{2}}{2 \\, f g}$"
      ],
      "text/plain": [
       "TR*v + L0 + 1/2*v^2/(f*g)"
      ]
     },
     "metadata": {},
     "output_type": "display_data"
    }
   ],
   "source": [
    "Ds = L0 + Db\n",
    "show(Ds)"
   ]
  },
  {
   "cell_type": "markdown",
   "metadata": {},
   "source": [
    "## ad. 5: Określanie okresu mijania punktu kontrolnego przez kolejne samochody (T)"
   ]
  },
  {
   "cell_type": "code",
   "execution_count": 8,
   "metadata": {},
   "outputs": [
    {
     "data": {
      "text/html": [
       "<html>\\(\\displaystyle \\frac{2 \\, \\mathit{TR} v + 2 \\, L_{0} + \\frac{v^{2}}{f g}}{2 \\, v}\\)</html>"
      ],
      "text/latex": [
       "$\\displaystyle \\frac{2 \\, \\mathit{TR} v + 2 \\, L_{0} + \\frac{v^{2}}{f g}}{2 \\, v}$"
      ],
      "text/plain": [
       "1/2*(2*TR*v + 2*L0 + v^2/(f*g))/v"
      ]
     },
     "metadata": {},
     "output_type": "display_data"
    }
   ],
   "source": [
    "T = Ds/v\n",
    "show(T)"
   ]
  },
  {
   "cell_type": "code",
   "execution_count": 9,
   "metadata": {},
   "outputs": [
    {
     "data": {
      "text/html": [
       "<html>\\(\\displaystyle \\frac{0.203873598369011 \\, v^{2} + 0.200000000000000 \\, v + 6}{2 \\, v}\\)</html>"
      ],
      "text/latex": [
       "$\\displaystyle \\frac{0.203873598369011 \\, v^{2} + 0.200000000000000 \\, v + 6}{2 \\, v}$"
      ],
      "text/plain": [
       "1/2*(0.203873598369011*v^2 + 0.200000000000000*v + 6)/v"
      ]
     },
     "metadata": {},
     "output_type": "display_data"
    }
   ],
   "source": [
    "T_v = T.subs(L0==3, TR==0.1, f==0.5, g==9.81)\n",
    "show(T_v)"
   ]
  },
  {
   "cell_type": "markdown",
   "metadata": {},
   "source": [
    "## ad. 6: Wykres zależności T(v) (w metrach na sekundę)"
   ]
  },
  {
   "cell_type": "code",
   "execution_count": 10,
   "metadata": {},
   "outputs": [
    {
     "data": {
      "image/png": "[encoded data removed]",
      "text/plain": [
       "Graphics object consisting of 1 graphics primitive"
      ]
     },
     "execution_count": 10,
     "metadata": {},
     "output_type": "execute_result"
    }
   ],
   "source": [
    "plot(T_v, (v, 0, 50), ymin=0, ymax=10)"
   ]
  },
  {
   "cell_type": "markdown",
   "metadata": {},
   "source": [
    "Zamiana jednostek na km/h"
   ]
  },
  {
   "cell_type": "code",
   "execution_count": 12,
   "metadata": {},
   "outputs": [],
   "source": [
    "vkmh = var('vkmh')"
   ]
  },
  {
   "cell_type": "code",
   "execution_count": 13,
   "metadata": {
    "scrolled": true
   },
   "outputs": [
    {
     "data": {
      "text/html": [
       "<html>\\[\\newcommand{\\Bold}[1]{\\mathbf{#1}}\\frac{5}{18} \\, \\mathit{vkmh}\\]</html>"
      ],
      "text/latex": [
       "$$\\newcommand{\\Bold}[1]{\\mathbf{#1}}\\frac{5}{18} \\, \\mathit{vkmh}$$"
      ],
      "text/plain": [
       "5/18*vkmh"
      ]
     },
     "metadata": {},
     "output_type": "display_data"
    }
   ],
   "source": [
    "v = vkmh*1000/3600\n",
    "show(v)"
   ]
  },
  {
   "cell_type": "code",
   "execution_count": 14,
   "metadata": {},
   "outputs": [],
   "source": [
    "Dr = v*TR\n",
    "ah = f*g\n",
    "Th = v/ah\n",
    "Dh = v*Th - 0.5*ah*Th**2\n",
    "Db = Dr + Dh\n",
    "Ds = L0 + Db\n",
    "T = Ds/v"
   ]
  },
  {
   "cell_type": "code",
   "execution_count": 15,
   "metadata": {},
   "outputs": [
    {
     "data": {
      "text/html": [
       "<html>\\[\\newcommand{\\Bold}[1]{\\mathbf{#1}}\\frac{5 \\, \\mathit{TR} \\mathit{vkmh} + 18 \\, L_{0} + \\frac{0.694444444444444 \\, \\mathit{vkmh}^{2}}{f g}}{5 \\, \\mathit{vkmh}}\\]</html>"
      ],
      "text/latex": [
       "$$\\newcommand{\\Bold}[1]{\\mathbf{#1}}\\frac{5 \\, \\mathit{TR} \\mathit{vkmh} + 18 \\, L_{0} + \\frac{0.694444444444444 \\, \\mathit{vkmh}^{2}}{f g}}{5 \\, \\mathit{vkmh}}$$"
      ],
      "text/plain": [
       "1/5*(5*TR*vkmh + 18*L0 + 0.694444444444444*vkmh^2/(f*g))/vkmh"
      ]
     },
     "metadata": {},
     "output_type": "display_data"
    }
   ],
   "source": [
    "show(T)"
   ]
  },
  {
   "cell_type": "code",
   "execution_count": 16,
   "metadata": {},
   "outputs": [],
   "source": [
    "T_dependency = T.subs(L0==3, TR==0.1, f==0.5, g==9.81)"
   ]
  },
  {
   "cell_type": "code",
   "execution_count": 17,
   "metadata": {},
   "outputs": [
    {
     "data": {
      "image/png": "[encoded data removed]",
      "text/plain": [
       "Graphics object consisting of 1 graphics primitive"
      ]
     },
     "execution_count": 17,
     "metadata": {},
     "output_type": "execute_result"
    }
   ],
   "source": [
    "plot(T_dependency, (vkmh, 0, 50), ymin = 1, ymax = 3)"
   ]
  },
  {
   "cell_type": "markdown",
   "metadata": {},
   "source": [
    "## ad. 7: Wyznaczanie prędkości optymalnej (vopt)"
   ]
  },
  {
   "cell_type": "code",
   "execution_count": 18,
   "metadata": {},
   "outputs": [
    {
     "data": {
      "text/plain": [
       "(1.206002527218662, 19.529792625376476)"
      ]
     },
     "execution_count": 18,
     "metadata": {},
     "output_type": "execute_result"
    }
   ],
   "source": [
    "T_dependency.find_local_minimum(10, 30)"
   ]
  },
  {
   "cell_type": "code",
   "execution_count": 19,
   "metadata": {},
   "outputs": [
    {
     "data": {
      "text/html": [
       "<html>\\[\\newcommand{\\Bold}[1]{\\mathbf{#1}}\\frac{5 \\, \\mathit{TR} + \\frac{1.38888888888889 \\, \\mathit{vkmh}}{f g}}{5 \\, \\mathit{vkmh}} - \\frac{5 \\, \\mathit{TR} \\mathit{vkmh} + 18 \\, L_{0} + \\frac{0.694444444444444 \\, \\mathit{vkmh}^{2}}{f g}}{5 \\, \\mathit{vkmh}^{2}}\\]</html>"
      ],
      "text/latex": [
       "$$\\newcommand{\\Bold}[1]{\\mathbf{#1}}\\frac{5 \\, \\mathit{TR} + \\frac{1.38888888888889 \\, \\mathit{vkmh}}{f g}}{5 \\, \\mathit{vkmh}} - \\frac{5 \\, \\mathit{TR} \\mathit{vkmh} + 18 \\, L_{0} + \\frac{0.694444444444444 \\, \\mathit{vkmh}^{2}}{f g}}{5 \\, \\mathit{vkmh}^{2}}$$"
      ],
      "text/plain": [
       "1/5*(5*TR + 1.38888888888889*vkmh/(f*g))/vkmh - 1/5*(5*TR*vkmh + 18*L0 + 0.694444444444444*vkmh^2/(f*g))/vkmh^2"
      ]
     },
     "metadata": {},
     "output_type": "display_data"
    }
   ],
   "source": [
    "Tprim = diff(T, vkmh)\n",
    "show(Tprim)"
   ]
  },
  {
   "cell_type": "code",
   "execution_count": 20,
   "metadata": {},
   "outputs": [
    {
     "data": {
      "text/plain": [
       "[vkmh == -18/5*sqrt(2)*sqrt(L0*f*g), vkmh == 18/5*sqrt(2)*sqrt(L0*f*g)]"
      ]
     },
     "execution_count": 20,
     "metadata": {},
     "output_type": "execute_result"
    }
   ],
   "source": [
    "solve(Tprim, vkmh)"
   ]
  },
  {
   "cell_type": "code",
   "execution_count": 21,
   "metadata": {},
   "outputs": [
    {
     "data": {
      "text/html": [
       "<html>\\[\\newcommand{\\Bold}[1]{\\mathbf{#1}}\\frac{18}{5} \\, \\sqrt{2} \\sqrt{L_{0} f g}\\]</html>"
      ],
      "text/latex": [
       "$$\\newcommand{\\Bold}[1]{\\mathbf{#1}}\\frac{18}{5} \\, \\sqrt{2} \\sqrt{L_{0} f g}$$"
      ],
      "text/plain": [
       "18/5*sqrt(2)*sqrt(L0*f*g)"
      ]
     },
     "metadata": {},
     "output_type": "display_data"
    }
   ],
   "source": [
    "vopt = solve(Tprim, vkmh)[1].rhs()\n",
    "show(vopt)"
   ]
  },
  {
   "cell_type": "code",
   "execution_count": 21,
   "metadata": {},
   "outputs": [
    {
     "data": {
      "text/html": [
       "<html>\\[\\newcommand{\\Bold}[1]{\\mathbf{#1}}19.5298\\]</html>"
      ],
      "text/latex": [
       "$$\\newcommand{\\Bold}[1]{\\mathbf{#1}}19.5298$$"
      ],
      "text/plain": [
       "19.5298"
      ]
     },
     "metadata": {},
     "output_type": "display_data"
    }
   ],
   "source": [
    "vopt_value = round(N(vopt.subs(L0==3, TR==0.5, f==0.5, g==9.81)), 4)\n",
    "show(vopt_value)"
   ]
  },
  {
   "cell_type": "markdown",
   "metadata": {},
   "source": [
    "## ad. 8: Badanie zależności vopt od f, TR i L0"
   ]
  },
  {
   "cell_type": "code",
   "execution_count": 22,
   "metadata": {},
   "outputs": [
    {
     "data": {
      "image/png": "[encoded data removed]",
      "text/plain": [
       "Graphics object consisting of 1 graphics primitive"
      ]
     },
     "execution_count": 22,
     "metadata": {},
     "output_type": "execute_result"
    }
   ],
   "source": [
    "vopt_dependency = vopt.subs(TR==0.5, f==0.5, g==9.81)\n",
    "plot(vopt_dependency, (L0, 0, 20), ymin = 0, ymax = 50)"
   ]
  },
  {
   "cell_type": "code",
   "execution_count": 23,
   "metadata": {},
   "outputs": [
    {
     "data": {
      "image/png": "[encoded data removed]",
      "text/plain": [
       "Graphics object consisting of 1 graphics primitive"
      ]
     },
     "execution_count": 23,
     "metadata": {},
     "output_type": "execute_result"
    }
   ],
   "source": [
    "vopt_dependency = vopt.subs(L0==3, TR==0.5, g==9.81)\n",
    "plot(vopt_dependency, (f, 0, 1), ymin = 0, ymax = 30)"
   ]
  },
  {
   "cell_type": "markdown",
   "metadata": {},
   "source": [
    "## ad. 9: Badanie zależności T(v) dla różnych czasów reakcji (TR)"
   ]
  },
  {
   "cell_type": "code",
   "execution_count": 24,
   "metadata": {
    "scrolled": true
   },
   "outputs": [
    {
     "data": {
      "image/png": "[encoded data removed]",
      "text/plain": [
       "Graphics object consisting of 3 graphics primitives"
      ]
     },
     "execution_count": 24,
     "metadata": {},
     "output_type": "execute_result"
    }
   ],
   "source": [
    "Td1 = T.subs(L0 == 3, f == 0.5, g == 9.81, TR == 0.1)\n",
    "Td2 = T.subs(L0 == 3, f == 0.5, g == 9.81, TR == 0.2)\n",
    "Td3 = T.subs(L0 == 3, f == 0.5, g == 9.81, TR == 0.3)\n",
    "plot((Td1, Td2, Td3), (vkmh, 10, 50))"
   ]
  },
  {
   "cell_type": "code",
   "execution_count": null,
   "metadata": {},
   "outputs": [],
   "source": []
  }
 ],
 "metadata": {
  "kernelspec": {
   "display_name": "SageMath 9.8",
   "language": "sage",
   "name": "sagemath-9.8"
  },
  "language_info": {
   "codemirror_mode": {
    "name": "ipython",
    "version": 3
   },
   "file_extension": ".py",
   "mimetype": "text/x-python",
   "name": "python",
   "nbconvert_exporter": "python",
   "pygments_lexer": "ipython3",
   "version": "3.11.1"
  }
 },
 "nbformat": 4,
 "nbformat_minor": 4
}

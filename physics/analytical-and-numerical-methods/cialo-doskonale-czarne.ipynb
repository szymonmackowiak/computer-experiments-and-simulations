{
 "cells": [
  {
   "cell_type": "code",
   "execution_count": 1,
   "metadata": {},
   "outputs": [],
   "source": [
    "def update(expr):\n",
    "    return expr.subs(dict(zip(expr.variables(), map(lambda v:eval(str(v)), expr.variables()))))"
   ]
  },
  {
   "cell_type": "markdown",
   "metadata": {},
   "source": [
    "### Zadanie 1 \n",
    "\n",
    "Korzystając z założeń Plancka wyprowadź wzór na średnią liczbę fotonów przypadajacych na jeden mod promieniowania ciała doskonale czarnego."
   ]
  },
  {
   "cell_type": "code",
   "execution_count": 2,
   "metadata": {},
   "outputs": [],
   "source": [
    "En = var('En', latex_name=r'E_n')\n",
    "n = var('n')\n",
    "h = var('h')\n",
    "ni = var('ni', latex_name=r'\\nu')\n",
    "P = function('P')(En)\n",
    "C = var('C')\n",
    "k = var('k')\n",
    "T = var('T')\n",
    "ns = var('ns')"
   ]
  },
  {
   "cell_type": "code",
   "execution_count": 3,
   "metadata": {},
   "outputs": [
    {
     "data": {
      "text/html": [
       "<html>\\[\\newcommand{\\Bold}[1]{\\mathbf{#1}}h n {\\nu}\\]</html>"
      ],
      "text/latex": [
       "$$\\newcommand{\\Bold}[1]{\\mathbf{#1}}h n {\\nu}$$"
      ],
      "text/plain": [
       "h*n*ni"
      ]
     },
     "metadata": {},
     "output_type": "display_data"
    }
   ],
   "source": [
    "En = n*h*ni\n",
    "show(En)"
   ]
  },
  {
   "cell_type": "code",
   "execution_count": 4,
   "metadata": {},
   "outputs": [
    {
     "data": {
      "text/html": [
       "<html>\\[\\newcommand{\\Bold}[1]{\\mathbf{#1}}C e^{\\left(-\\frac{h n {\\nu}}{T k}\\right)}\\]</html>"
      ],
      "text/latex": [
       "$$\\newcommand{\\Bold}[1]{\\mathbf{#1}}C e^{\\left(-\\frac{h n {\\nu}}{T k}\\right)}$$"
      ],
      "text/plain": [
       "C*e^(-h*n*ni/(T*k))"
      ]
     },
     "metadata": {},
     "output_type": "display_data"
    }
   ],
   "source": [
    "P = C*e^(-En/(k*T))\n",
    "show(P)"
   ]
  },
  {
   "cell_type": "code",
   "execution_count": 5,
   "metadata": {},
   "outputs": [
    {
     "data": {
      "text/html": [
       "<html>\\[\\newcommand{\\Bold}[1]{\\mathbf{#1}}\\frac{C e^{\\left(\\frac{h {\\nu}}{T k}\\right)}}{e^{\\left(\\frac{2 \\, h {\\nu}}{T k}\\right)} - 2 \\, e^{\\left(\\frac{h {\\nu}}{T k}\\right)} + 1}\\]</html>"
      ],
      "text/latex": [
       "$$\\newcommand{\\Bold}[1]{\\mathbf{#1}}\\frac{C e^{\\left(\\frac{h {\\nu}}{T k}\\right)}}{e^{\\left(\\frac{2 \\, h {\\nu}}{T k}\\right)} - 2 \\, e^{\\left(\\frac{h {\\nu}}{T k}\\right)} + 1}$$"
      ],
      "text/plain": [
       "C*e^(h*ni/(T*k))/(e^(2*h*ni/(T*k)) - 2*e^(h*ni/(T*k)) + 1)"
      ]
     },
     "metadata": {},
     "output_type": "display_data"
    }
   ],
   "source": [
    "ns = sum(n*P, n, 0, oo)\n",
    "show(ns)"
   ]
  },
  {
   "cell_type": "code",
   "execution_count": 6,
   "metadata": {},
   "outputs": [
    {
     "data": {
      "text/html": [
       "<html>\\[\\newcommand{\\Bold}[1]{\\mathbf{#1}}\\frac{C e^{\\left(\\frac{h {\\nu}}{T k}\\right)}}{e^{\\left(\\frac{h {\\nu}}{T k}\\right)} - 1}\\]</html>"
      ],
      "text/latex": [
       "$$\\newcommand{\\Bold}[1]{\\mathbf{#1}}\\frac{C e^{\\left(\\frac{h {\\nu}}{T k}\\right)}}{e^{\\left(\\frac{h {\\nu}}{T k}\\right)} - 1}$$"
      ],
      "text/plain": [
       "C*e^(h*ni/(T*k))/(e^(h*ni/(T*k)) - 1)"
      ]
     },
     "metadata": {},
     "output_type": "display_data"
    }
   ],
   "source": [
    "assume(e^((h*ni)/(T*k))-1>0)\n",
    "prob_sum = sum(P, n, 0, oo)\n",
    "show(prob_sum)"
   ]
  },
  {
   "cell_type": "code",
   "execution_count": 7,
   "metadata": {
    "scrolled": true
   },
   "outputs": [
    {
     "data": {
      "text/html": [
       "<html>\\[\\newcommand{\\Bold}[1]{\\mathbf{#1}}-e^{\\left(-\\frac{h {\\nu}}{T k}\\right)} + 1\\]</html>"
      ],
      "text/latex": [
       "$$\\newcommand{\\Bold}[1]{\\mathbf{#1}}-e^{\\left(-\\frac{h {\\nu}}{T k}\\right)} + 1$$"
      ],
      "text/plain": [
       "-e^(-h*ni/(T*k)) + 1"
      ]
     },
     "metadata": {},
     "output_type": "display_data"
    }
   ],
   "source": [
    "C_solve = solve(prob_sum==1, C)[0].rhs().expand()\n",
    "show(C_solve)"
   ]
  },
  {
   "cell_type": "code",
   "execution_count": 8,
   "metadata": {},
   "outputs": [],
   "source": [
    "result=ns.subs(C==C_solve).full_simplify()"
   ]
  },
  {
   "cell_type": "code",
   "execution_count": 9,
   "metadata": {},
   "outputs": [
    {
     "data": {
      "text/html": [
       "<html>\\[\\newcommand{\\Bold}[1]{\\mathbf{#1}}\\frac{1}{e^{\\left(\\frac{h {\\nu}}{T k}\\right)} - 1}\\]</html>"
      ],
      "text/latex": [
       "$$\\newcommand{\\Bold}[1]{\\mathbf{#1}}\\frac{1}{e^{\\left(\\frac{h {\\nu}}{T k}\\right)} - 1}$$"
      ],
      "text/plain": [
       "1/(e^(h*ni/(T*k)) - 1)"
      ]
     },
     "metadata": {},
     "output_type": "display_data"
    }
   ],
   "source": [
    "show(result)"
   ]
  },
  {
   "cell_type": "code",
   "execution_count": 10,
   "metadata": {},
   "outputs": [],
   "source": [
    "c = var('c')\n",
    "u = function('u')(ni, T)"
   ]
  },
  {
   "cell_type": "markdown",
   "metadata": {},
   "source": [
    "### Wniosek!\n",
    "Gęstość energii promieniowania w wnęce modelujacej ciało doskonale czarne przyjmuje postać:"
   ]
  },
  {
   "cell_type": "code",
   "execution_count": 11,
   "metadata": {},
   "outputs": [
    {
     "data": {
      "text/html": [
       "<html>\\[\\newcommand{\\Bold}[1]{\\mathbf{#1}}\\frac{8 \\, \\pi h {\\nu}^{3}}{c^{3} {\\left(e^{\\left(\\frac{h {\\nu}}{T k}\\right)} - 1\\right)}}\\]</html>"
      ],
      "text/latex": [
       "$$\\newcommand{\\Bold}[1]{\\mathbf{#1}}\\frac{8 \\, \\pi h {\\nu}^{3}}{c^{3} {\\left(e^{\\left(\\frac{h {\\nu}}{T k}\\right)} - 1\\right)}}$$"
      ],
      "text/plain": [
       "8*pi*h*ni^3/(c^3*(e^(h*ni/(T*k)) - 1))"
      ]
     },
     "metadata": {},
     "output_type": "display_data"
    }
   ],
   "source": [
    "u = (8*pi*ni^2)/(c^3)*result*h*ni\n",
    "show(u)"
   ]
  },
  {
   "cell_type": "markdown",
   "metadata": {},
   "source": [
    "### Zadanie 2\n",
    "Wyraź rozkład widmowej gęstości $u(\\nu,T)$ energii dla promieniowania ciała doskonale czarnego w funkcji  długości fali, tzn. znajdź nową funkcję $w(\\lambda,T)$."
   ]
  },
  {
   "cell_type": "code",
   "execution_count": 12,
   "metadata": {},
   "outputs": [],
   "source": [
    "lbd = var('lbd', latex_name=r'\\lambda')\n",
    "w = function('w')(lbd, T)\n",
    "x = var('x')\n",
    "wx = function('w_x')(x, T)\n",
    "ni = c/lbd"
   ]
  },
  {
   "cell_type": "code",
   "execution_count": 13,
   "metadata": {},
   "outputs": [
    {
     "data": {
      "text/html": [
       "<html>\\[\\newcommand{\\Bold}[1]{\\mathbf{#1}}\\frac{8 \\, \\pi h}{{\\lambda}^{3} {\\left(e^{\\left(\\frac{c h}{T k {\\lambda}}\\right)} - 1\\right)}}\\]</html>"
      ],
      "text/latex": [
       "$$\\newcommand{\\Bold}[1]{\\mathbf{#1}}\\frac{8 \\, \\pi h}{{\\lambda}^{3} {\\left(e^{\\left(\\frac{c h}{T k {\\lambda}}\\right)} - 1\\right)}}$$"
      ],
      "text/plain": [
       "8*pi*h/(lbd^3*(e^(c*h/(T*k*lbd)) - 1))"
      ]
     },
     "metadata": {},
     "output_type": "display_data"
    }
   ],
   "source": [
    "u = update(u)\n",
    "show(u)"
   ]
  },
  {
   "cell_type": "code",
   "execution_count": 14,
   "metadata": {
    "scrolled": true
   },
   "outputs": [
    {
     "data": {
      "text/html": [
       "<html>\\[\\newcommand{\\Bold}[1]{\\mathbf{#1}}-\\frac{8 \\, \\pi c h}{{\\lambda}^{5} {\\left(e^{\\left(\\frac{c h}{T k {\\lambda}}\\right)} - 1\\right)}} + w\\left({\\lambda}, T\\right) = 0\\]</html>"
      ],
      "text/latex": [
       "$$\\newcommand{\\Bold}[1]{\\mathbf{#1}}-\\frac{8 \\, \\pi c h}{{\\lambda}^{5} {\\left(e^{\\left(\\frac{c h}{T k {\\lambda}}\\right)} - 1\\right)}} + w\\left({\\lambda}, T\\right) = 0$$"
      ],
      "text/plain": [
       "-8*pi*c*h/(lbd^5*(e^(c*h/(T*k*lbd)) - 1)) + w(lbd, T) == 0"
      ]
     },
     "metadata": {},
     "output_type": "display_data"
    }
   ],
   "source": [
    "de1 = u*diff(ni, lbd) + w == 0\n",
    "de1 = update(de1)\n",
    "show(de1)"
   ]
  },
  {
   "cell_type": "code",
   "execution_count": 15,
   "metadata": {},
   "outputs": [
    {
     "data": {
      "text/html": [
       "<html>\\[\\newcommand{\\Bold}[1]{\\mathbf{#1}}\\frac{8 \\, \\pi c h}{{\\lambda}^{5} e^{\\left(\\frac{c h}{T k {\\lambda}}\\right)} - {\\lambda}^{5}}\\]</html>"
      ],
      "text/latex": [
       "$$\\newcommand{\\Bold}[1]{\\mathbf{#1}}\\frac{8 \\, \\pi c h}{{\\lambda}^{5} e^{\\left(\\frac{c h}{T k {\\lambda}}\\right)} - {\\lambda}^{5}}$$"
      ],
      "text/plain": [
       "8*pi*c*h/(lbd^5*e^(c*h/(T*k*lbd)) - lbd^5)"
      ]
     },
     "metadata": {},
     "output_type": "display_data"
    }
   ],
   "source": [
    "result_w = solve(de1, w)[0].rhs()\n",
    "show(result_w)"
   ]
  },
  {
   "cell_type": "markdown",
   "metadata": {},
   "source": [
    "### Zadanie 3\n",
    "Narysuj wykres otrzymanej zależności. Wymyśl przy tym własne jednostki dla wielkości fizycznych: długości fali, częstotliwości, temperatury, widmowej gęstości prawdopodobieństwa, itp.; tak by nie było koniecznym posługiwanie się niewygodnymi wartościami liczbowymi stałych fizycznych."
   ]
  },
  {
   "cell_type": "code",
   "execution_count": 16,
   "metadata": {},
   "outputs": [
    {
     "data": {
      "text/html": [
       "<html>\\[\\newcommand{\\Bold}[1]{\\mathbf{#1}}\\frac{c h}{T k}\\]</html>"
      ],
      "text/latex": [
       "$$\\newcommand{\\Bold}[1]{\\mathbf{#1}}\\frac{c h}{T k}$$"
      ],
      "text/plain": [
       "c*h/(T*k)"
      ]
     },
     "metadata": {},
     "output_type": "display_data"
    }
   ],
   "source": [
    "w=result_w\n",
    "lbd0 = var('lbd0', latex_name = r'\\lambda_0')\n",
    "result_lbd0 = solve((c*h)/(k*T*lbd0)==1, lbd0)[0].rhs()\n",
    "show(result_lbd0)\n",
    "lbd0 = result_lbd0"
   ]
  },
  {
   "cell_type": "code",
   "execution_count": 17,
   "metadata": {},
   "outputs": [
    {
     "data": {
      "text/html": [
       "<html>\\[\\newcommand{\\Bold}[1]{\\mathbf{#1}}\\frac{8 \\, \\pi c h}{{\\lambda}^{5} e^{\\left(\\frac{c h}{T k {\\lambda}}\\right)} - {\\lambda}^{5}}\\]</html>"
      ],
      "text/latex": [
       "$$\\newcommand{\\Bold}[1]{\\mathbf{#1}}\\frac{8 \\, \\pi c h}{{\\lambda}^{5} e^{\\left(\\frac{c h}{T k {\\lambda}}\\right)} - {\\lambda}^{5}}$$"
      ],
      "text/plain": [
       "8*pi*c*h/(lbd^5*e^(c*h/(T*k*lbd)) - lbd^5)"
      ]
     },
     "metadata": {},
     "output_type": "display_data"
    }
   ],
   "source": [
    "show(w)"
   ]
  },
  {
   "cell_type": "code",
   "execution_count": 18,
   "metadata": {
    "scrolled": true
   },
   "outputs": [
    {
     "data": {
      "text/html": [
       "<html>\\[\\newcommand{\\Bold}[1]{\\mathbf{#1}}-\\frac{8 \\, \\pi c^{2} h^{2}}{{\\left(\\frac{c^{5} h^{5} x^{5} e^{\\frac{1}{x}}}{T^{5} k^{5}} - \\frac{c^{5} h^{5} x^{5}}{T^{5} k^{5}}\\right)} T k} + w_{x}\\left(x, T\\right) = 0\\]</html>"
      ],
      "text/latex": [
       "$$\\newcommand{\\Bold}[1]{\\mathbf{#1}}-\\frac{8 \\, \\pi c^{2} h^{2}}{{\\left(\\frac{c^{5} h^{5} x^{5} e^{\\frac{1}{x}}}{T^{5} k^{5}} - \\frac{c^{5} h^{5} x^{5}}{T^{5} k^{5}}\\right)} T k} + w_{x}\\left(x, T\\right) = 0$$"
      ],
      "text/plain": [
       "-8*pi*c^2*h^2/((c^5*h^5*x^5*e^(1/x)/(T^5*k^5) - c^5*h^5*x^5/(T^5*k^5))*T*k) + w_x(x, T) == 0"
      ]
     },
     "metadata": {},
     "output_type": "display_data"
    }
   ],
   "source": [
    "de2 = wx - lbd0*w.subs(lbd==lbd0*x) == 0\n",
    "show(de2)"
   ]
  },
  {
   "cell_type": "code",
   "execution_count": 19,
   "metadata": {},
   "outputs": [
    {
     "data": {
      "text/html": [
       "<html>\\[\\newcommand{\\Bold}[1]{\\mathbf{#1}}\\frac{8 \\, \\pi T^{4} k^{4}}{c^{3} h^{3} x^{5} e^{\\frac{1}{x}} - c^{3} h^{3} x^{5}}\\]</html>"
      ],
      "text/latex": [
       "$$\\newcommand{\\Bold}[1]{\\mathbf{#1}}\\frac{8 \\, \\pi T^{4} k^{4}}{c^{3} h^{3} x^{5} e^{\\frac{1}{x}} - c^{3} h^{3} x^{5}}$$"
      ],
      "text/plain": [
       "8*pi*T^4*k^4/(c^3*h^3*x^5*e^(1/x) - c^3*h^3*x^5)"
      ]
     },
     "metadata": {},
     "output_type": "display_data"
    }
   ],
   "source": [
    "result_wx = solve(de2, wx)[0].rhs()\n",
    "show(result_wx)"
   ]
  },
  {
   "cell_type": "code",
   "execution_count": 20,
   "metadata": {},
   "outputs": [
    {
     "data": {
      "text/html": [
       "<html>\\[\\newcommand{\\Bold}[1]{\\mathbf{#1}}\\frac{8 \\, \\pi T^{4} k^{4}}{c^{3} h^{3} e - c^{3} h^{3}}\\]</html>"
      ],
      "text/latex": [
       "$$\\newcommand{\\Bold}[1]{\\mathbf{#1}}\\frac{8 \\, \\pi T^{4} k^{4}}{c^{3} h^{3} e - c^{3} h^{3}}$$"
      ],
      "text/plain": [
       "8*pi*T^4*k^4/(c^3*h^3*e - c^3*h^3)"
      ]
     },
     "metadata": {},
     "output_type": "display_data"
    }
   ],
   "source": [
    "wx = result_wx\n",
    "w0 = wx.subs(x==1)\n",
    "show(w0)"
   ]
  },
  {
   "cell_type": "code",
   "execution_count": 21,
   "metadata": {},
   "outputs": [],
   "source": [
    "ws = function('w_s')(x)"
   ]
  },
  {
   "cell_type": "code",
   "execution_count": 22,
   "metadata": {},
   "outputs": [
    {
     "data": {
      "text/html": [
       "<html>\\[\\newcommand{\\Bold}[1]{\\mathbf{#1}}\\frac{e - 1}{x^{5} e^{\\frac{1}{x}} - x^{5}}\\]</html>"
      ],
      "text/latex": [
       "$$\\newcommand{\\Bold}[1]{\\mathbf{#1}}\\frac{e - 1}{x^{5} e^{\\frac{1}{x}} - x^{5}}$$"
      ],
      "text/plain": [
       "(e - 1)/(x^5*e^(1/x) - x^5)"
      ]
     },
     "metadata": {},
     "output_type": "display_data"
    }
   ],
   "source": [
    "ws = wx/w0\n",
    "ws = ws.full_simplify()\n",
    "show(ws)"
   ]
  },
  {
   "cell_type": "code",
   "execution_count": 23,
   "metadata": {},
   "outputs": [
    {
     "data": {
      "image/png": "[encoded data removed]",
      "text/plain": [
       "Graphics object consisting of 1 graphics primitive"
      ]
     },
     "execution_count": 23,
     "metadata": {},
     "output_type": "execute_result"
    }
   ],
   "source": [
    "plot(ws, (x, 0.01, 1), axes_labels=['$x$','$w_s(x)$'])"
   ]
  },
  {
   "cell_type": "markdown",
   "metadata": {},
   "source": [
    "### Zadanie 4\n",
    "Z prawa Plancka wyprowadź prawo przesunięć Wiena $\\lambda T=const$. Do rozwiazywania równań przestępnych zastosuj metodę graficzną i numeryczną.\n",
    "\n",
    "Wskazówka: Zastosuj wynik skalownia widmowej gęstosci energii promieniowania (w funkcji dł. fali)  z zadania 3."
   ]
  },
  {
   "cell_type": "code",
   "execution_count": 24,
   "metadata": {},
   "outputs": [
    {
     "data": {
      "text/html": [
       "<html>\\[\\newcommand{\\Bold}[1]{\\mathbf{#1}}\\frac{5 \\, x {\\left(e - 1\\right)} - {\\left(5 \\, x {\\left(e - 1\\right)} - e + 1\\right)} e^{\\frac{1}{x}}}{x^{7} e^{\\frac{2}{x}} - 2 \\, x^{7} e^{\\frac{1}{x}} + x^{7}}\\]</html>"
      ],
      "text/latex": [
       "$$\\newcommand{\\Bold}[1]{\\mathbf{#1}}\\frac{5 \\, x {\\left(e - 1\\right)} - {\\left(5 \\, x {\\left(e - 1\\right)} - e + 1\\right)} e^{\\frac{1}{x}}}{x^{7} e^{\\frac{2}{x}} - 2 \\, x^{7} e^{\\frac{1}{x}} + x^{7}}$$"
      ],
      "text/plain": [
       "(5*x*(e - 1) - (5*x*(e - 1) - e + 1)*e^(1/x))/(x^7*e^(2/x) - 2*x^7*e^(1/x) + x^7)"
      ]
     },
     "metadata": {},
     "output_type": "display_data"
    }
   ],
   "source": [
    "show(diff(ws, x).full_simplify())"
   ]
  },
  {
   "cell_type": "code",
   "execution_count": 25,
   "metadata": {},
   "outputs": [
    {
     "data": {
      "text/plain": [
       "(5*x*(e - 1) - (5*x*(e - 1) - e + 1)*e^(1/x))/(x^7*e^(2/x) - 2*x^7*e^(1/x) + x^7)"
      ]
     },
     "execution_count": 25,
     "metadata": {},
     "output_type": "execute_result"
    }
   ],
   "source": [
    "diff(ws, x).full_simplify()"
   ]
  },
  {
   "cell_type": "code",
   "execution_count": 26,
   "metadata": {
    "scrolled": true
   },
   "outputs": [
    {
     "data": {
      "text/html": [
       "<html>\\[\\newcommand{\\Bold}[1]{\\mathbf{#1}}-{\\left(5 \\, x e^{\\frac{1}{x}} - 5 \\, x - e^{\\frac{1}{x}}\\right)} {\\left(e - 1\\right)}\\]</html>"
      ],
      "text/latex": [
       "$$\\newcommand{\\Bold}[1]{\\mathbf{#1}}-{\\left(5 \\, x e^{\\frac{1}{x}} - 5 \\, x - e^{\\frac{1}{x}}\\right)} {\\left(e - 1\\right)}$$"
      ],
      "text/plain": [
       "-(5*x*e^(1/x) - 5*x - e^(1/x))*(e - 1)"
      ]
     },
     "metadata": {},
     "output_type": "display_data"
    }
   ],
   "source": [
    "numerator = (5*x*(e - 1) - (5*x*(e - 1) - e + 1)*e^(1/x))\n",
    "show(numerator.factor())"
   ]
  },
  {
   "cell_type": "code",
   "execution_count": 27,
   "metadata": {},
   "outputs": [
    {
     "data": {
      "text/plain": [
       "-(5*x*e^(1/x) - 5*x - e^(1/x))*(e - 1)"
      ]
     },
     "execution_count": 27,
     "metadata": {},
     "output_type": "execute_result"
    }
   ],
   "source": [
    "factor(numerator)"
   ]
  },
  {
   "cell_type": "code",
   "execution_count": 28,
   "metadata": {},
   "outputs": [],
   "source": [
    "y1 = function('y1')(x)\n",
    "y2 = function('y2')(x)"
   ]
  },
  {
   "cell_type": "code",
   "execution_count": 29,
   "metadata": {},
   "outputs": [],
   "source": [
    "y1 = 5*x\n",
    "y2 = - e^(1/x) + 5*x*e^(1/x)"
   ]
  },
  {
   "cell_type": "code",
   "execution_count": 30,
   "metadata": {},
   "outputs": [
    {
     "data": {
      "image/png": "[encoded data removed]",
      "text/plain": [
       "Graphics object consisting of 2 graphics primitives"
      ]
     },
     "metadata": {},
     "output_type": "display_data"
    }
   ],
   "source": [
    "p1 = plot(y1, (x, 0.2012, 0.2015))\n",
    "p2 = plot(y2, (x, 0.2012, 0.2015), axes_labels=['$x$','$y_1(x), y_2(x)$'])\n",
    "show(p1+p2)"
   ]
  },
  {
   "cell_type": "code",
   "execution_count": 31,
   "metadata": {},
   "outputs": [
    {
     "data": {
      "text/html": [
       "<html>\\[\\newcommand{\\Bold}[1]{\\mathbf{#1}}0.20140523527264254\\]</html>"
      ],
      "text/latex": [
       "$$\\newcommand{\\Bold}[1]{\\mathbf{#1}}0.20140523527264254$$"
      ],
      "text/plain": [
       "0.20140523527264254"
      ]
     },
     "metadata": {},
     "output_type": "display_data"
    }
   ],
   "source": [
    "eq = -(5*x*e^(1/x) - 5*x - e^(1/x))\n",
    "xmax = find_root(eq==0, 0.18, 0.22)\n",
    "show(xmax)"
   ]
  },
  {
   "cell_type": "code",
   "execution_count": 32,
   "metadata": {},
   "outputs": [
    {
     "data": {
      "text/html": [
       "<html>\\[\\newcommand{\\Bold}[1]{\\mathbf{#1}}\\frac{0.00289776486178089}{T}\\]</html>"
      ],
      "text/latex": [
       "$$\\newcommand{\\Bold}[1]{\\mathbf{#1}}\\frac{0.00289776486178089}{T}$$"
      ],
      "text/plain": [
       "0.00289776486178089/T"
      ]
     },
     "metadata": {},
     "output_type": "display_data"
    }
   ],
   "source": [
    "lbdmax = xmax*lbd0.subs(c==299792458, h==2 * N(pi) * 1.05457*10^(-34), k=1.38065*10^(-23))\n",
    "show(lbdmax)"
   ]
  }
 ],
 "metadata": {
  "kernelspec": {
   "display_name": "SageMath 9.8",
   "language": "sage",
   "name": "sagemath-9.8"
  },
  "language_info": {
   "codemirror_mode": {
    "name": "ipython",
    "version": 3
   },
   "file_extension": ".py",
   "mimetype": "text/x-python",
   "name": "python",
   "nbconvert_exporter": "python",
   "pygments_lexer": "ipython3",
   "version": "3.11.1"
  }
 },
 "nbformat": 4,
 "nbformat_minor": 4
}

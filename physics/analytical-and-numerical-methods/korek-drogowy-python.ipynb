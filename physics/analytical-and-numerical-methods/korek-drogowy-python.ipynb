{
 "cells": [
  {
   "cell_type": "markdown",
   "id": "167f94c4",
   "metadata": {},
   "source": [
    "# Problem korków drogowych\n",
    "\n",
    "Wszyscy znamy zjawisko spowolnienia ruchu na autostradzie w godzinach szczytu, gdy liczba poruszajacych się samochodow rośnie gwałtownie. Wiekszość z nas uważa, ze zjawisko to utrudnia ruch; jestesmy przekonani, ze samochody mogłyby poruszac sie szybciej. Czy tak jest w istocie? Rozważymy ten problem z punktu widzenia fizyki.\n",
    "\n",
    "1. Przyjmujemy, ze samochody poruszaja sie jeden za drugim z identyczna predkoscia $v$.\n",
    "2. Przyjmijmy, ze wszystkie poruszajace samochody sa identyczne i maja dlugosc $L0$. \n",
    "3. Przyjmijmy, ze siedzacy w nich kierowcy maja ten sam czas reakcji $TR$. \n",
    "4. Przyjmijmy, ze kierowcy utrzymuja miedzy samochodami identyczna, bezpieczna odleglosc $Db$ (mierzona od przednmiego zderzaka samochodu poruszajacego sie z tylu do tylniego zderzaka samochodu poruszajacego sie z przodu). Odleglosc ta rowna jest sumie dwu składnikow: $Dr$ i $Dh$. $Dr$ jest drogą reakcji, tzn. odległością, jaką samochód przejedzie, nim kierowca naciśnie pedał hamulca. Dh jest drogą hamowania, tzn. drogą, jaką samochod przejedzie od momentu naciśniecia hamulca do momentu zatrzymania samochodu. \n",
    "5. Przyjmujemy, ze wszystkie samochody hamują w równie efektywny sposob - przyśpieszenie (ujemne) jakiemu poddany jest samochod podczas hamowania wynosi $f \\cdot g$, gdzie $f$ jest współczynnikiem tarcia między oponami a powierzchnią autostrady, a $g$ jest przyspieszeniem ziemskim.\n",
    "\n",
    "Biorąc pod uwage określone wyżej założenia zdefiniuj wyrażenia opisujace:\n",
    "1. Drogę reakcji $Dr$.\n",
    "2. Drogę hamowania $Dh$ (znajdź czas $Th$, po którym prędkość spadnie do zera, a nastepnie oblicz drogę $Dh$ przebytą w tym czasie.)\n",
    "3. Odległość bezpieczną $Db=Dr+Dh$.\n",
    "4. Odleglość $Ds$ zajmowaną przez jeden samochód w poruszającej sie kolumnie $Ds=L0+Db$.\n",
    "5. Określ $T$, z którym samochody przejeżdżają pewien nieruchomy punkt kontrolny.\n",
    "\n",
    "Przyjmujac:\n",
    "- $g=9.81~~ \\rm{[m/s^2]}$,\n",
    "- $f=0.5$,\n",
    "- $TR=0.5~~ \\rm{[s]}$,\n",
    "- $L0=4~~ \\rm{[m]}$,\n",
    "\n",
    "6. Wykonaj wykres zalezności okresu T od predkości v.\n",
    "7. Znajdź optymalną prędkość vopt, przy której przepustowość autostrady osiąga swe maksimum, to znaczy znajdź minimum zaleznosci $T(v)$. (W tym celu oblicz pochodną $dT/dv$ i znajdź tą wartość vopt, dla której pochodna ta równa jest 0).\n",
    "8. Zbadaj, jak optymalna prędkość vopt zalezy od $f$, $TR$ i $L0$.\n",
    "9. Zbadaj, jak okres T zależy od czasu reakcji kierowów TR."
   ]
  },
  {
   "cell_type": "markdown",
   "id": "1185ee8b",
   "metadata": {},
   "source": [
    "WSKAZÓWKA: Najpierw podziel wielkości na funkcje i wartości (co będzie reprezentowane przez symbole, a co przez zmienne). Z treści zadania wynika, że symbolami będą v i T. Pozostałe wielkości można reprezentować za pomocą zmiennych numerycznych. Ale możemy też wszystko traktowac jako symbol!"
   ]
  },
  {
   "cell_type": "code",
   "execution_count": 1,
   "id": "98cd0d59",
   "metadata": {},
   "outputs": [],
   "source": [
    "import matplotlib.pyplot as plt\n",
    "from sympy import *\n",
    "from sympy.plotting import plot"
   ]
  },
  {
   "cell_type": "markdown",
   "id": "c2d3a049",
   "metadata": {},
   "source": [
    "### Obliczenia w m/s"
   ]
  },
  {
   "cell_type": "code",
   "execution_count": 2,
   "id": "15cca985",
   "metadata": {},
   "outputs": [],
   "source": [
    "T, v, L0, g, f, TR, Dr, ah, Th, Dh, Db, Ds, T, v = symbols('T v L0 g f TR Dr ah Th Dh Db Ds T v')"
   ]
  },
  {
   "cell_type": "markdown",
   "id": "c223d1f1",
   "metadata": {},
   "source": [
    "#### ad. 1: Określanie drogi reakcji (Dr)"
   ]
  },
  {
   "cell_type": "code",
   "execution_count": 3,
   "id": "53197e67",
   "metadata": {},
   "outputs": [
    {
     "data": {
      "text/latex": [
       "$\\displaystyle TR v$"
      ],
      "text/plain": [
       "TR*v"
      ]
     },
     "execution_count": 3,
     "metadata": {},
     "output_type": "execute_result"
    }
   ],
   "source": [
    "Dr = v*TR\n",
    "Dr"
   ]
  },
  {
   "cell_type": "markdown",
   "id": "7e0f7877",
   "metadata": {},
   "source": [
    "#### ad. 2: Określanie drogi hamowania (Dh)"
   ]
  },
  {
   "cell_type": "code",
   "execution_count": 4,
   "id": "fb99f4d4",
   "metadata": {},
   "outputs": [
    {
     "data": {
      "text/latex": [
       "$\\displaystyle f g$"
      ],
      "text/plain": [
       "f*g"
      ]
     },
     "execution_count": 4,
     "metadata": {},
     "output_type": "execute_result"
    }
   ],
   "source": [
    "ah = f*g\n",
    "ah"
   ]
  },
  {
   "cell_type": "code",
   "execution_count": 5,
   "id": "6bea3055",
   "metadata": {},
   "outputs": [
    {
     "data": {
      "text/latex": [
       "$\\displaystyle \\frac{v}{f g}$"
      ],
      "text/plain": [
       "v/(f*g)"
      ]
     },
     "execution_count": 5,
     "metadata": {},
     "output_type": "execute_result"
    }
   ],
   "source": [
    "Th = v/ah\n",
    "Th"
   ]
  },
  {
   "cell_type": "code",
   "execution_count": 6,
   "id": "20582bb2",
   "metadata": {},
   "outputs": [
    {
     "data": {
      "text/latex": [
       "$\\displaystyle \\frac{0.5 v^{2}}{f g}$"
      ],
      "text/plain": [
       "0.5*v**2/(f*g)"
      ]
     },
     "execution_count": 6,
     "metadata": {},
     "output_type": "execute_result"
    }
   ],
   "source": [
    "Dh = v*Th - 0.5*ah*Th**2\n",
    "Dh"
   ]
  },
  {
   "cell_type": "markdown",
   "id": "9bcd520a",
   "metadata": {},
   "source": [
    "#### ad. 3: Określanie drogi bezpiecznej (Db)"
   ]
  },
  {
   "cell_type": "code",
   "execution_count": 7,
   "id": "e470cf43",
   "metadata": {
    "scrolled": true
   },
   "outputs": [
    {
     "data": {
      "text/latex": [
       "$\\displaystyle TR v + \\frac{0.5 v^{2}}{f g}$"
      ],
      "text/plain": [
       "TR*v + 0.5*v**2/(f*g)"
      ]
     },
     "execution_count": 7,
     "metadata": {},
     "output_type": "execute_result"
    }
   ],
   "source": [
    "Db = Dr + Dh\n",
    "Db"
   ]
  },
  {
   "cell_type": "markdown",
   "id": "aaddfe4a",
   "metadata": {},
   "source": [
    "#### ad. 4: Określanie odległości zajmowanej przez jeden samochód (Ds)"
   ]
  },
  {
   "cell_type": "code",
   "execution_count": 8,
   "id": "c767f99c",
   "metadata": {
    "scrolled": true
   },
   "outputs": [
    {
     "data": {
      "text/latex": [
       "$\\displaystyle L_{0} + TR v + \\frac{0.5 v^{2}}{f g}$"
      ],
      "text/plain": [
       "L0 + TR*v + 0.5*v**2/(f*g)"
      ]
     },
     "execution_count": 8,
     "metadata": {},
     "output_type": "execute_result"
    }
   ],
   "source": [
    "Ds = L0 + Db\n",
    "Ds"
   ]
  },
  {
   "cell_type": "markdown",
   "id": "7f17fcf1",
   "metadata": {},
   "source": [
    "#### ad. 5: Określanie okresu mijania punktu kontrolnego przez kolejne samochody (T)"
   ]
  },
  {
   "cell_type": "code",
   "execution_count": 9,
   "id": "1bbadefb",
   "metadata": {},
   "outputs": [
    {
     "data": {
      "text/latex": [
       "$\\displaystyle \\frac{L_{0} + TR v + \\frac{0.5 v^{2}}{f g}}{v}$"
      ],
      "text/plain": [
       "(L0 + TR*v + 0.5*v**2/(f*g))/v"
      ]
     },
     "execution_count": 9,
     "metadata": {},
     "output_type": "execute_result"
    }
   ],
   "source": [
    "T = Ds/v\n",
    "T"
   ]
  },
  {
   "cell_type": "code",
   "execution_count": 10,
   "id": "671c8ac3",
   "metadata": {},
   "outputs": [
    {
     "data": {
      "text/latex": [
       "$\\displaystyle \\frac{0.101936799184506 v^{2} + 0.5 v + 3}{v}$"
      ],
      "text/plain": [
       "(0.101936799184506*v**2 + 0.5*v + 3)/v"
      ]
     },
     "execution_count": 10,
     "metadata": {},
     "output_type": "execute_result"
    }
   ],
   "source": [
    "T.subs([(L0, 3), (TR, 0.5), (f, 0.5), (g, 9.81)])"
   ]
  },
  {
   "cell_type": "markdown",
   "id": "6389d361",
   "metadata": {},
   "source": [
    "#### ad. 6: Wykres zależności T(v) (w metrach na sekundę)"
   ]
  },
  {
   "cell_type": "code",
   "execution_count": 11,
   "id": "f819080a",
   "metadata": {
    "scrolled": true
   },
   "outputs": [
    {
     "data": {
      "image/png": "[encoded data removed]",
      "text/plain": [
       "<Figure size 432x288 with 1 Axes>"
      ]
     },
     "metadata": {
      "needs_background": "light"
     },
     "output_type": "display_data"
    },
    {
     "data": {
      "text/plain": [
       "<sympy.plotting.plot.Plot at 0x7ff208a5b880>"
      ]
     },
     "execution_count": 11,
     "metadata": {},
     "output_type": "execute_result"
    }
   ],
   "source": [
    "plot(T.subs([(L0, 3), (TR, 0.1), (f, 0.5), (g, 9.81)]), (v, 0, 50), xlim = [0, 50], ylim = [0, 10])"
   ]
  },
  {
   "cell_type": "markdown",
   "id": "57d935d2",
   "metadata": {},
   "source": [
    "### Zamiana jednostek na km/h"
   ]
  },
  {
   "cell_type": "code",
   "execution_count": 12,
   "id": "b80d17f9",
   "metadata": {},
   "outputs": [],
   "source": [
    "T, v, L0, g, f, TR, Dr, ah, Th, Dh, Db, Ds, T, v, vkmh = symbols('T v L0 g f TR Dr ah Th Dh Db Ds T v vkmh')"
   ]
  },
  {
   "cell_type": "code",
   "execution_count": 13,
   "id": "efd5314d",
   "metadata": {},
   "outputs": [
    {
     "data": {
      "text/latex": [
       "$\\displaystyle \\frac{5 vkmh}{18}$"
      ],
      "text/plain": [
       "5*vkmh/18"
      ]
     },
     "execution_count": 13,
     "metadata": {},
     "output_type": "execute_result"
    }
   ],
   "source": [
    "v = vkmh*1000/3600\n",
    "v"
   ]
  },
  {
   "cell_type": "code",
   "execution_count": 14,
   "id": "ec8e7a96",
   "metadata": {},
   "outputs": [],
   "source": [
    "Dr = v*TR\n",
    "ah = f*g\n",
    "Th = v/ah\n",
    "Dh = v*Th - 0.5*ah*Th**2\n",
    "Db = Dr + Dh\n",
    "Ds = L0 + Db\n",
    "T = Ds/v"
   ]
  },
  {
   "cell_type": "code",
   "execution_count": 15,
   "id": "c00f8383",
   "metadata": {},
   "outputs": [
    {
     "data": {
      "text/latex": [
       "$\\displaystyle \\frac{18 \\left(L_{0} + \\frac{5 TR vkmh}{18} + \\frac{0.0385802469135802 vkmh^{2}}{f g}\\right)}{5 vkmh}$"
      ],
      "text/plain": [
       "18*(L0 + 5*TR*vkmh/18 + 0.0385802469135802*vkmh**2/(f*g))/(5*vkmh)"
      ]
     },
     "execution_count": 15,
     "metadata": {},
     "output_type": "execute_result"
    }
   ],
   "source": [
    "T"
   ]
  },
  {
   "cell_type": "code",
   "execution_count": 16,
   "id": "920ea25f",
   "metadata": {},
   "outputs": [],
   "source": [
    "T_dependency = T.subs([(L0, 3), (TR, 0.5), (f, 0.5), (g, 9.81)])"
   ]
  },
  {
   "cell_type": "code",
   "execution_count": 17,
   "id": "f3082660",
   "metadata": {
    "scrolled": true
   },
   "outputs": [
    {
     "data": {
      "image/png": "[encoded data removed]",
      "text/plain": [
       "<Figure size 432x288 with 1 Axes>"
      ]
     },
     "metadata": {
      "needs_background": "light"
     },
     "output_type": "display_data"
    },
    {
     "data": {
      "text/plain": [
       "<sympy.plotting.plot.Plot at 0x7ff21820b820>"
      ]
     },
     "execution_count": 17,
     "metadata": {},
     "output_type": "execute_result"
    }
   ],
   "source": [
    "plot(T_dependency, (vkmh, 0, 50), xlim = [0, 50], ylim = [0, 3])"
   ]
  },
  {
   "cell_type": "markdown",
   "id": "4d47e678",
   "metadata": {},
   "source": [
    "#### ad. 7: Wyznaczanie prędkości optymalnej (vopt)"
   ]
  },
  {
   "cell_type": "code",
   "execution_count": 18,
   "id": "b7d97a5b",
   "metadata": {},
   "outputs": [
    {
     "data": {
      "text/latex": [
       "$\\displaystyle \\frac{18 \\left(\\frac{5 TR}{18} + \\frac{0.0771604938271605 vkmh}{f g}\\right)}{5 vkmh} - \\frac{18 \\left(L_{0} + \\frac{5 TR vkmh}{18} + \\frac{0.0385802469135802 vkmh^{2}}{f g}\\right)}{5 vkmh^{2}}$"
      ],
      "text/plain": [
       "18*(5*TR/18 + 0.0771604938271605*vkmh/(f*g))/(5*vkmh) - 18*(L0 + 5*TR*vkmh/18 + 0.0385802469135802*vkmh**2/(f*g))/(5*vkmh**2)"
      ]
     },
     "execution_count": 18,
     "metadata": {},
     "output_type": "execute_result"
    }
   ],
   "source": [
    "Tprim = diff(T, vkmh)\n",
    "Tprim"
   ]
  },
  {
   "cell_type": "code",
   "execution_count": 19,
   "id": "4f2e3518",
   "metadata": {},
   "outputs": [],
   "source": [
    "Tprim = simplify(Tprim)"
   ]
  },
  {
   "cell_type": "code",
   "execution_count": 20,
   "id": "42beea2a",
   "metadata": {},
   "outputs": [
    {
     "data": {
      "text/latex": [
       "$\\displaystyle - \\frac{3.6 L_{0}}{vkmh^{2}} + \\frac{0.138888888888889}{f g}$"
      ],
      "text/plain": [
       "-3.6*L0/vkmh**2 + 0.138888888888889/(f*g)"
      ]
     },
     "execution_count": 20,
     "metadata": {},
     "output_type": "execute_result"
    }
   ],
   "source": [
    "Tprim"
   ]
  },
  {
   "cell_type": "code",
   "execution_count": 21,
   "id": "73f146e6",
   "metadata": {},
   "outputs": [
    {
     "data": {
      "text/plain": [
       "[-5.09116882454314*sqrt(L0*f*g), 5.09116882454314*sqrt(L0*f*g)]"
      ]
     },
     "execution_count": 21,
     "metadata": {},
     "output_type": "execute_result"
    }
   ],
   "source": [
    "solve(Tprim, vkmh)"
   ]
  },
  {
   "cell_type": "code",
   "execution_count": 22,
   "id": "ea2e7756",
   "metadata": {},
   "outputs": [
    {
     "data": {
      "text/latex": [
       "$\\displaystyle 5.09116882454314 \\sqrt{L_{0} f g}$"
      ],
      "text/plain": [
       "5.09116882454314*sqrt(L0*f*g)"
      ]
     },
     "execution_count": 22,
     "metadata": {},
     "output_type": "execute_result"
    }
   ],
   "source": [
    "vopt = solve(Tprim, vkmh)[1]\n",
    "vopt"
   ]
  },
  {
   "cell_type": "code",
   "execution_count": 23,
   "id": "b0e7a43a",
   "metadata": {},
   "outputs": [
    {
     "data": {
      "text/latex": [
       "$\\displaystyle 19.5298$"
      ],
      "text/plain": [
       "19.5298"
      ]
     },
     "execution_count": 23,
     "metadata": {},
     "output_type": "execute_result"
    }
   ],
   "source": [
    "vopt_value = round(N(vopt.subs([(L0, 3), (TR, 0.5), (f, 0.5), (g, 9.81)])), 4)\n",
    "vopt_value"
   ]
  },
  {
   "cell_type": "markdown",
   "id": "e6876449",
   "metadata": {},
   "source": [
    "#### ad. 8: Badanie zależności vopt od f, TR i L0"
   ]
  },
  {
   "cell_type": "code",
   "execution_count": 24,
   "id": "e9398bf7",
   "metadata": {
    "scrolled": true
   },
   "outputs": [
    {
     "data": {
      "image/png": "[encoded data removed]",
      "text/plain": [
       "<Figure size 432x288 with 1 Axes>"
      ]
     },
     "metadata": {
      "needs_background": "light"
     },
     "output_type": "display_data"
    },
    {
     "data": {
      "text/plain": [
       "<sympy.plotting.plot.Plot at 0x7ff2089e78e0>"
      ]
     },
     "execution_count": 24,
     "metadata": {},
     "output_type": "execute_result"
    }
   ],
   "source": [
    "vopt_dependency = vopt.subs([(TR, 0.5), (f, 0.5), (g, 9.81)])\n",
    "plot(vopt_dependency, (L0, 0, 20), xlim = [0, 20], ylim = [0, 50])"
   ]
  },
  {
   "cell_type": "code",
   "execution_count": 25,
   "id": "8a49ab9f",
   "metadata": {},
   "outputs": [
    {
     "data": {
      "image/png": "[encoded data removed]",
      "text/plain": [
       "<Figure size 432x288 with 1 Axes>"
      ]
     },
     "metadata": {
      "needs_background": "light"
     },
     "output_type": "display_data"
    },
    {
     "data": {
      "text/plain": [
       "<sympy.plotting.plot.Plot at 0x7ff208a86190>"
      ]
     },
     "execution_count": 25,
     "metadata": {},
     "output_type": "execute_result"
    }
   ],
   "source": [
    "vopt_dependency = vopt.subs([(L0, 3), (TR, 0.5), (g, 9.81)])\n",
    "plot(vopt_dependency, (f, 0, 1), xlim = [0, 1], ylim = [0, 30])"
   ]
  },
  {
   "cell_type": "markdown",
   "id": "db66c1ff",
   "metadata": {},
   "source": [
    "#### ad. 9: Badanie zależności T(v) dla różnych czasów reakcji (TR)"
   ]
  },
  {
   "cell_type": "code",
   "execution_count": 26,
   "id": "ea45cd50",
   "metadata": {},
   "outputs": [
    {
     "data": {
      "image/png": "[encoded data removed]",
      "text/plain": [
       "<Figure size 432x288 with 1 Axes>"
      ]
     },
     "metadata": {
      "needs_background": "light"
     },
     "output_type": "display_data"
    },
    {
     "data": {
      "text/plain": [
       "<sympy.plotting.plot.Plot at 0x7ff23bb34f40>"
      ]
     },
     "execution_count": 26,
     "metadata": {},
     "output_type": "execute_result"
    }
   ],
   "source": [
    "Td1 = T.subs([(L0, 3), (f, 0.5), (g, 9.81), (TR, 0.1)])\n",
    "Td2 = T.subs([(L0, 3), (f, 0.5), (g, 9.81), (TR, 0.2)])\n",
    "Td3 = T.subs([(L0, 3), (f, 0.5), (g, 9.81), (TR, 0.3)])\n",
    "plot(Td1, Td2, Td3, (vkmh, 10, 50))"
   ]
  }
 ],
 "metadata": {
  "kernelspec": {
   "display_name": "Python 3.8.5 64-bit ('venv': venv)",
   "language": "python",
   "name": "python385jvsc74a57bd099a82c65e6a9f7d0924eee6027688161b65fa5111213ce293896afe332219a6b"
  },
  "language_info": {
   "codemirror_mode": {
    "name": "ipython",
    "version": 3
   },
   "file_extension": ".py",
   "mimetype": "text/x-python",
   "name": "python",
   "nbconvert_exporter": "python",
   "pygments_lexer": "ipython3",
   "version": "3.8.5"
  }
 },
 "nbformat": 4,
 "nbformat_minor": 5
}

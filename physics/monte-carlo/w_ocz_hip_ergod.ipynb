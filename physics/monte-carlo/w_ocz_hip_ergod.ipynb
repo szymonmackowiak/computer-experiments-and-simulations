{
 "cells": [
  {
   "cell_type": "markdown",
   "id": "43822f92",
   "metadata": {},
   "source": [
    "Wartości średnie można obliczać ze wzorów:\n",
    "$\\langle A \\rangle = \\frac{\\int_{0}^{\\infty} A e^{-E/\\theta}dx}{\\int_{0}^{\\infty} e^{-E/\\theta} dx}$. Przyjmując, że dla oscylatora harmonicznego $E = 1/2 kx^2$ otrzymujemy odpowiednio: $\\langle U \\rangle = \\frac{\\int_{0}^{\\infty} 1/2 k x^2 e^{-{1/2 k x^2}/\\theta}dx}{\\int_{0}^{\\infty} e^{-{1/2 k x^2}/\\theta}dx}$ oraz $\\langle x \\rangle = \\frac{\\int_{0}^{\\infty} x e^{-{1/2 k x^2}/\\theta}dx}{\\int_{0}^{\\infty} e^{-{1/2 k x^2}/\\theta}dx}$"
   ]
  },
  {
   "cell_type": "code",
   "execution_count": 1,
   "id": "927bb552",
   "metadata": {},
   "outputs": [],
   "source": [
    "x = var('x')"
   ]
  },
  {
   "cell_type": "code",
   "execution_count": 10,
   "id": "1b682a1e",
   "metadata": {},
   "outputs": [
    {
     "data": {
      "text/html": [
       "<html>\\(\\displaystyle 0.0500000000000000\\)</html>"
      ],
      "text/latex": [
       "$\\displaystyle 0.0500000000000000$"
      ],
      "text/plain": [
       "0.0500000000000000"
      ]
     },
     "metadata": {},
     "output_type": "display_data"
    },
    {
     "data": {
      "text/html": [
       "<html>\\(\\displaystyle 0.252313252202016\\)</html>"
      ],
      "text/latex": [
       "$\\displaystyle 0.252313252202016$"
      ],
      "text/plain": [
       "0.252313252202016"
      ]
     },
     "metadata": {},
     "output_type": "display_data"
    }
   ],
   "source": [
    "k=1\n",
    "teta = 0.1\n",
    "E_num = (1/2)*k*x*x*exp(-(1/2)*k*x*x/teta)\n",
    "E_den = exp(-(1/2)*k*x*x/teta)\n",
    "En = E_num.integral(x, 0, infinity)/E_den.integral(x, 0, infinity)\n",
    "show(En.n())\n",
    "\n",
    "p_num = x*exp(-(1/2)*k*x*x/teta)\n",
    "p_den = exp(-(1/2)*k*x*x/teta)\n",
    "\n",
    "p = p_num.integral(x, 0, infinity)/p_den.integral(x, 0, infinity)\n",
    "show(p.n())"
   ]
  },
  {
   "cell_type": "code",
   "execution_count": null,
   "id": "8ee8148e",
   "metadata": {},
   "outputs": [],
   "source": []
  }
 ],
 "metadata": {
  "kernelspec": {
   "display_name": "SageMath 9.7",
   "language": "sage",
   "name": "sagemath-9.7"
  },
  "language_info": {
   "codemirror_mode": {
    "name": "ipython",
    "version": 3
   },
   "file_extension": ".py",
   "mimetype": "text/x-python",
   "name": "python",
   "nbconvert_exporter": "python",
   "pygments_lexer": "ipython3",
   "version": "3.10.5"
  }
 },
 "nbformat": 4,
 "nbformat_minor": 5
}

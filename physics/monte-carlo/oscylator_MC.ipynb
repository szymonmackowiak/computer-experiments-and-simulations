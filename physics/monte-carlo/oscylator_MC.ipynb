{
 "cells": [
  {
   "cell_type": "markdown",
   "metadata": {},
   "source": [
    "# Zastosowanie algorytmu Monte Carlo Metropolisa do symulacji oscylatora harmonicznego\n",
    "\n",
    "Algorytm Metropolisa (1953) to wariant metody Monte Carlo (wymyślonej przez Stanisława Ulama) i jest uważany za jeden z najważniejszych algorytmów, które wywarły wpływ na rozwój nauki i techniki w XX wieku. Dla pojedyńczej cząstki wykonującej jednowymiarowe drgania (oscylator jednowymiarowy harmoniczny) algorytm Metropolisa możemy przedstawić w postaci następujących założeń / kroków:\n",
    "1. Zakładamy, że układ realizuje warunki NVT, a symulacja polega na prókowaniu kolejnych pozycji. \n",
    "2. Dla danego stanu n+1 warunkiem akceptowalności kroku jest obniżenie energii układu, albo przejście do nowego stanu z prawdopodobieństwem $exp \\left( - \\frac{E_{n+1} - E_n}{k_B T} \\right) $, gdzie $k_B$ to stała Boltzmana, a $T$ to temperatura w skali bezwzględnej. Jeżeli została wylosowana poprzenia pozycja - krok zostaje pominięty. \n",
    "3. Jeżeli układ składa się z wielu cząstek, najpierw losujemy z rozkładem jednorodnym jedną cząstkę. W sytuacji oscylatora harmonicznego ten krok może zostać pominięty.\n",
    "4. Wykonujemy próbne przemieszczenie cząstki zgodnie ze wzorem: $x_{n+1} = x_{n} + z \\cdot (rand - 0.5)$\n",
    "5. Jeśli energia układu się obniży, nowe położenie z automatu jest akceptowane. \n",
    "6. Jeżeli energia wzrosła, losujemy kolejną liczbę losową i sprawdzamy czy $rand < exp(-\\frac{U_{n+1} - U_n}{\\theta})$. Jeżeli tak, to przemieszczenie zostaje zaakceptowane, w przeciwnym razie zostaje odrzucone. "
   ]
  },
  {
   "cell_type": "markdown",
   "metadata": {},
   "source": [
    "Praca z programem powinna przebiegać następująco:\n",
    "1. Dobieramy wartość maksymalnego kroku \"z\" tak, aby współczynnik akceptacji mieścił się w granicy 50-60 %. Dla każdej wartości $\\theta$ trzeba dobrać inną wartość z. \n",
    "2. Dla kolejnych wartości $\\theta$ sprawdzamy, zgodność z wynikami teoretycznymi."
   ]
  },
  {
   "cell_type": "code",
   "execution_count": 39,
   "metadata": {},
   "outputs": [
    {
     "name": "stdout",
     "output_type": "stream",
     "text": [
      "accepted = 57.49 %, rejected = 42.51 %\n",
      "<E> = 0.0501855566066426, <|x|> = 0.252785173373222\n"
     ]
    }
   ],
   "source": [
    "from random import random\n",
    "from math import exp\n",
    "import numpy as np\n",
    "\n",
    "steps = 100000\n",
    "k = 1\n",
    "teta = 0.1\n",
    "\n",
    "xn = 0.1\n",
    "z = 1.5\n",
    "\n",
    "x_tab = []\n",
    "E_tab = []\n",
    "\n",
    "accepted = 0\n",
    "rejected = 0\n",
    "\n",
    "for i in range(steps):\n",
    "\n",
    "    Un = 0.5*k*xn*xn\n",
    "    r1 = random()\n",
    "    xnp1 = xn + z*(r1 - 0.5)\n",
    "    Up = 0.5*k*xnp1*xnp1\n",
    "\n",
    "    if (Up < Un):\n",
    "        xn = xnp1\n",
    "        Un = Up\n",
    "        accepted = accepted+1\n",
    "    else:\n",
    "        r2 = random()\n",
    "        if (r2 < exp(-(Up-Un)/teta)):\n",
    "            xn = xnp1\n",
    "            Un = Up\n",
    "            accepted = accepted+1\n",
    "        else: \n",
    "            xn = xn\n",
    "            Un = Un\n",
    "            rejected = rejected+1\n",
    "\n",
    "    E_tab.append(Un)\n",
    "    x_tab.append(np.abs(xn))\n",
    "\n",
    "print(f\"accepted = {round(100*accepted/steps, 2)} %, rejected = {round(100*rejected/steps, 2)} %\")\n",
    "print(f\"<E> = {round(np.mean(E_tab), 16)}, <|x|> = {round(np.mean(x_tab), 16)}\")"
   ]
  },
  {
   "cell_type": "code",
   "execution_count": null,
   "metadata": {},
   "outputs": [],
   "source": []
  }
 ],
 "metadata": {
  "kernelspec": {
   "display_name": "Python 3",
   "language": "python",
   "name": "python3"
  },
  "language_info": {
   "codemirror_mode": {
    "name": "ipython",
    "version": 3
   },
   "file_extension": ".py",
   "mimetype": "text/x-python",
   "name": "python",
   "nbconvert_exporter": "python",
   "pygments_lexer": "ipython3",
   "version": "3.8.5"
  }
 },
 "nbformat": 4,
 "nbformat_minor": 4
}
